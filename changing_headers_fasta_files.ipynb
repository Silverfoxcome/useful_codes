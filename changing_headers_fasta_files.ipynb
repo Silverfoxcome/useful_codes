{
 "cells": [
  {
   "cell_type": "code",
   "execution_count": 1,
   "metadata": {},
   "outputs": [
    {
     "name": "stdout",
     "output_type": "stream",
     "text": [
      "/media/koala/windiska/tesis_2021/phylo_21/get_homPhy/test5zea\n"
     ]
    }
   ],
   "source": [
    "pwd"
   ]
  },
  {
   "cell_type": "code",
   "execution_count": 2,
   "metadata": {},
   "outputs": [
    {
     "name": "stdout",
     "output_type": "stream",
     "text": [
      ">rps12_join{[69326:69439](-),[92925:93156](-),[92356:92384](-)}\n",
      ">psbA_[89:1150](-)\n",
      ">matK_[1670:3211](-)\n",
      ">rps16_join{[5558:5597](-),[4484:4701](-)}\n",
      ">psbK_[7195:7380](+)\n",
      ">psbI_[7776:7886](+)\n",
      ">psbD_[9084:10145](+)\n",
      ">psbZ_[12019:12207](+)\n",
      ">psbM_[18178:18282](+)\n",
      ">petN_[19085:19174](-)\n"
     ]
    }
   ],
   "source": [
    "grep \">\" zmex.cds.fna | head"
   ]
  },
  {
   "cell_type": "code",
   "execution_count": 3,
   "metadata": {},
   "outputs": [
    {
     "name": "stdout",
     "output_type": "stream",
     "text": [
      ">lcl|mexicana.1_cds_rps12_join{[69326:69439](-),[92925:93156](-),[92356:92384](-)}\n",
      ">lcl|mexicana.1_cds_psbA_[89:1150](-)\n",
      ">lcl|mexicana.1_cds_matK_[1670:3211](-)\n",
      ">lcl|mexicana.1_cds_rps16_join{[5558:5597](-),[4484:4701](-)}\n",
      ">lcl|mexicana.1_cds_psbK_[7195:7380](+)\n",
      ">lcl|mexicana.1_cds_psbI_[7776:7886](+)\n",
      ">lcl|mexicana.1_cds_psbD_[9084:10145](+)\n",
      ">lcl|mexicana.1_cds_psbZ_[12019:12207](+)\n",
      ">lcl|mexicana.1_cds_psbM_[18178:18282](+)\n",
      ">lcl|mexicana.1_cds_petN_[19085:19174](-)\n"
     ]
    }
   ],
   "source": [
    "grep \">\" zmex.cds.fna | sed -E 's/>/>lcl|mexicana.1_cds_/' | head"
   ]
  },
  {
   "cell_type": "code",
   "execution_count": 4,
   "metadata": {},
   "outputs": [
    {
     "name": "stdout",
     "output_type": "stream",
     "text": [
      ">rps12.zmex [mexicana]\n",
      ">psbA.zmex [mexicana]\n",
      ">matK.zmex [mexicana]\n",
      ">rps16.zmex [mexicana]\n",
      ">psbK.zmex [mexicana]\n",
      ">psbI.zmex [mexicana]\n",
      ">psbD.zmex [mexicana]\n",
      ">psbZ.zmex [mexicana]\n",
      ">psbM.zmex [mexicana]\n",
      ">petN.zmex [mexicana]\n"
     ]
    }
   ],
   "source": [
    "grep \">\" zmex.cds.fna | sed -E 's/_.*/.zmex [mexicana]/' | head"
   ]
  },
  {
   "cell_type": "code",
   "execution_count": 5,
   "metadata": {},
   "outputs": [
    {
     "name": "stdout",
     "output_type": "stream",
     "text": [
      ">lcl|mexicana.1_cds_rps12.zmex [mexicana]\n",
      ">lcl|mexicana.1_cds_psbA.zmex [mexicana]\n",
      ">lcl|mexicana.1_cds_matK.zmex [mexicana]\n",
      ">lcl|mexicana.1_cds_rps16.zmex [mexicana]\n",
      ">lcl|mexicana.1_cds_psbK.zmex [mexicana]\n",
      ">lcl|mexicana.1_cds_psbI.zmex [mexicana]\n",
      ">lcl|mexicana.1_cds_psbD.zmex [mexicana]\n",
      ">lcl|mexicana.1_cds_psbZ.zmex [mexicana]\n",
      ">lcl|mexicana.1_cds_psbM.zmex [mexicana]\n",
      ">lcl|mexicana.1_cds_petN.zmex [mexicana]\n"
     ]
    }
   ],
   "source": [
    "grep \">\" zmex.cds.fna | sed -E 's/_.*/.zmex [mexicana]/' | sed -E 's/>/>lcl|mexicana.1_cds_/' | head"
   ]
  },
  {
   "cell_type": "code",
   "execution_count": 6,
   "metadata": {},
   "outputs": [],
   "source": [
    "cp zmex.cds.fna zmex2.cds.fna"
   ]
  },
  {
   "cell_type": "code",
   "execution_count": 7,
   "metadata": {},
   "outputs": [
    {
     "name": "stdout",
     "output_type": "stream",
     "text": [
      ">rps12.zmex [mexicana]\n",
      "ATGCCAACGGTTAAACAACTTATTAGAAATGCAAGACAGCCAATACGAAATGCTAGAAAATCGGCCGCGCTTAAGGGATGTCCTCAGCGTCGAGGAACATGTGCTAGGGTGTATACTATCAACCCCAAAAAACCCAACTCTGCCTTACGTAAAGTTGCCAGAGTACGATTAACCTCTGGATTTGAAATCACTGCTTATATACCTGGTATTGGCCATAATTTACAAGAACATTCTGTAGTATTAGTAAGAGGAGGAAGGGTTAAGGATTTACCCGGTGTGAGATATCGCATTATTCGAGGAACCCTAGATGCTGTCGCAGTAAAGAATCGTCAACAAGGGCGTTCTAAATATGGGGCCAAAAAGCCAAAAAAATAA\n",
      ">psbA.zmex [mexicana]\n",
      "ATGACTGCAATTTTAGAGAGACGCGAAAGTACAAGCCTGTGGGGTCGCTTCTGCAACTGGATAACTAGCACCGAAAACCGTCTTTACATTGGATGGTTCGGTGTTTTGATGATCCCTACCTTATTGACCGCAACTTCCGTATTTATTATCGCCTTCATCGCTGCTCCTCCAGTAGATATTGATGGTATTCGTGAGCCTGTTTCTGGTTCTTTACTTTATGGAAACAATATTATCTCTGGTGCTATTATTCCTACTTCTGCGGCGATCGGATTGCATTTTTACCCAATTTGGGAAGCTGCATCTGTTGATGAATGGTTATACAATGGCGGTCCTTATGAGCTAATTGTTCTACACTTCTTACTTGGTGTAGCTTGTTATATGGGTCGTGAGTGGGAACTTAGTTTCCGTCTGGGTATGCGCCCTTGGATTGCTGTTGCATATTCAGCTCCTGTTGCAGCTGCTACTGCTGTTTTCTTGATTTACCCTATTGGTCAAGGAAGTTTCTCTGATGGTATGCCTTTAGGAATATCTGGTACTTTCAACTTTATGATTGTATTCCAGGCAGAGCACAACATCCTTATGCATCCATTTCACATGTTAGGTGTAGCTGGTGTATTCGGCGGTTCCCTATTCAGTGCTATGCATGGTTCCTTGGTAACCTCTAGTTTGATCAGGGAAACCACTGAAAATGAGTCTGCTAATGAGGGTTACAAATTTGGTCAGGAAGAAGAGACTTATAATATTGTGGCTGCTCACGGTTATTTTGGTCGATTAATCTTCCAATATGCTAGTTTCAACAATTCTCGTTCTTTACACTTCTTCTTGGCTGCTTGGCCTGTAGTAGGGATCTGGTTCACTGCTTTAGGTATTAGTACTATGGCATTCAACCTAAATGGTTTCAATTTCAACCAATCTGTAGTTGATAGCCAAGGTCGCGTTATTAATACTTGGGCTGATATCATCAACCGTGCTAATCTTGGTATGGAGGTAATGCACGAACGTAATGCTCACAACTTCCCTCTAGACCTAGCTGCTCTTGAAGTTCCTTACCTTAATGGATAA\n",
      ">matK.zmex [mexicana]\n",
      "ATGGAAAAATTCGAAGGGTATTCAGAAAAACAGAAATCTCGTCAACACTACTTCGTCTACCCACTTCTCTTTCAGGAATATATTTATGCATTTGCTCATGATTATGGATTAAATGGTTCCGAACCCGTGGAAATTTTTGGTTGTAATAACAAGAAATTTAGTTCACTACTTGTGAAACGTTTAATTATTCGAATGTATCAGCAGAATTTTTTAATTAATTCGGTTAATTATCCTAACCAAGATCGATTGTTGGATCACCGTAATTATTTTTATTCTGAGTTTTATTCTCAGATTCTATCTGAGGGGTTTGCGATCGTTGTAGAAATCCCACTCTCGCTAGGGCAACTATCTTGTCCGGAAGAAAAAGAAATACCAAATTTTCAAAATTTACAATCTATTCATTCAATATTTCCCTTTTTAGAAGACAAATTTTTGCATTTACATTATCTATCACATATAAAAATACCCTATCCTATCCATTTAGAAATCCTGGTTCAACTCCTTGAATACCGGATTCAAGATGTTCCCTCTTTGCATTTATTGCGATTCTTTCTCCACTATTATTCGAATTGGAATAGTTTTATTACTTCAATGAAATCCATTTTTCTTTTGAAAAAAGAAAATAAAAGACTATTTCGATTCCTATATAACTCTTATGTATCAGAATATGAATTTTTCTTGTTGTTTCTTCATAAACAATCTTCTTGCTTACGATTAACATCTTCTGGAACCTTTCTGGAACGAATCATCTTTTCTGGGAAGATGGAACATTTTGGTGTAATGTACCCGGGGTTTTTTCGGAAAACCATATGGTTCTTTATGGATCCTCTTATGCATTATGTTCGATATCAAGGAAAGGCAATTCTTGCATCAAAAGGCACTCTTCTTTTGAAGAAGAAATGGAAATCTTACCTTGTCAATTTCTCGCAATATTTTTTCTCTTTTTGGACTCAACCACAAAGGATTCGTCTAAACCAATTAACAAACTCTTGCTTCGATTTTCTGGGGTACCTTTCAAGTGTACCAATAAATACTTTGTTAGTAAGGAATCAAATGCTGGAGAATTCTTTTCTAATAGATACTCGAATGAAAAAATTCGATACCACAGTCCTTGCAACTCCCCTTGTCGGATCCTTATCAAAAGCTCAATTTTGTACTGGATCGGGGCATCCTATTAGTAAACCCGTTTGGACTGATTTATCAGATTGGGATATTCTTGATCGTTTTGGTCGGATATGTAGAAATATTTTTCATTATCATAGTGGATCTTCGAAAAAACAGACTTTGTATCGACTAAAATATATACTTCGACTTTCATGTGCTAGAACTTTAGCTCGTAAACATAAAAGTACGGTACGAACTTTTATGCAACGATTGGGTTCGGTATTTTTAGAAGAATTTTTTACGGAAGAAGAGCAAGTTTTTTCTTTGATGTTCACCAAAACAATTCACTTTTCTTTCCATGGATCACACAGTGAGCGTATTTGGTATTTGGATATTATCCGTATCAATGACCTGGTGAATCCTCTTACTCTTAATTAA\n",
      ">rps16.zmex [mexicana]\n",
      "ATGGTAAAACTTCGTTTAAAACGATGTGGTAGAAAGCAACAAGCTATCTATCGAATCGTTGCAATTGATGTTCGATCTCGAAGAGAAGGAAGAGATCTTCGAAAAGTAGGTTTTTATGATCCGATAAAGAATCAAACTTGTTTAAATGTTCCAGCTATTCTCTATTTCCTTGAAAAGGGTGCTCAACCTACAAGAACAGTTTATGATATTTTAAGGAAGGCAGAATTCTTTAAAGATAAAGAAAGAACTTTGAGTTAA\n",
      ">psbK.zmex [mexicana]\n",
      "ATGCCTAATATACTTAGTTTAACCTGTATCTGTTTTAATTCTGTTCTTTGTCCGACTAGCTTTTTCTTCGCCAAATTACCCGAAGCTTATGCCATTTTCAACCCAATCGTGGATGTTATGCCTGTCATACCTGTACTCTTTTTTCTATTAGCGTTTGTTTGGCAAGCTGCTGTAAGTTTTCGATGA\n",
      "sed: couldn't write 2205 items to stdout: Broken pipe\n"
     ]
    }
   ],
   "source": [
    "sed -E 's/_.*/.zmex [mexicana]/' zmex2.cds.fna | head"
   ]
  },
  {
   "cell_type": "code",
   "execution_count": 8,
   "metadata": {
    "scrolled": false
   },
   "outputs": [
    {
     "name": "stdout",
     "output_type": "stream",
     "text": [
      ">lcl|mexicana.1_cds_rps12.zmex [mexicana]\n",
      "ATGCCAACGGTTAAACAACTTATTAGAAATGCAAGACAGCCAATACGAAATGCTAGAAAATCGGCCGCGCTTAAGGGATGTCCTCAGCGTCGAGGAACATGTGCTAGGGTGTATACTATCAACCCCAAAAAACCCAACTCTGCCTTACGTAAAGTTGCCAGAGTACGATTAACCTCTGGATTTGAAATCACTGCTTATATACCTGGTATTGGCCATAATTTACAAGAACATTCTGTAGTATTAGTAAGAGGAGGAAGGGTTAAGGATTTACCCGGTGTGAGATATCGCATTATTCGAGGAACCCTAGATGCTGTCGCAGTAAAGAATCGTCAACAAGGGCGTTCTAAATATGGGGCCAAAAAGCCAAAAAAATAA\n",
      ">lcl|mexicana.1_cds_psbA.zmex [mexicana]\n",
      "ATGACTGCAATTTTAGAGAGACGCGAAAGTACAAGCCTGTGGGGTCGCTTCTGCAACTGGATAACTAGCACCGAAAACCGTCTTTACATTGGATGGTTCGGTGTTTTGATGATCCCTACCTTATTGACCGCAACTTCCGTATTTATTATCGCCTTCATCGCTGCTCCTCCAGTAGATATTGATGGTATTCGTGAGCCTGTTTCTGGTTCTTTACTTTATGGAAACAATATTATCTCTGGTGCTATTATTCCTACTTCTGCGGCGATCGGATTGCATTTTTACCCAATTTGGGAAGCTGCATCTGTTGATGAATGGTTATACAATGGCGGTCCTTATGAGCTAATTGTTCTACACTTCTTACTTGGTGTAGCTTGTTATATGGGTCGTGAGTGGGAACTTAGTTTCCGTCTGGGTATGCGCCCTTGGATTGCTGTTGCATATTCAGCTCCTGTTGCAGCTGCTACTGCTGTTTTCTTGATTTACCCTATTGGTCAAGGAAGTTTCTCTGATGGTATGCCTTTAGGAATATCTGGTACTTTCAACTTTATGATTGTATTCCAGGCAGAGCACAACATCCTTATGCATCCATTTCACATGTTAGGTGTAGCTGGTGTATTCGGCGGTTCCCTATTCAGTGCTATGCATGGTTCCTTGGTAACCTCTAGTTTGATCAGGGAAACCACTGAAAATGAGTCTGCTAATGAGGGTTACAAATTTGGTCAGGAAGAAGAGACTTATAATATTGTGGCTGCTCACGGTTATTTTGGTCGATTAATCTTCCAATATGCTAGTTTCAACAATTCTCGTTCTTTACACTTCTTCTTGGCTGCTTGGCCTGTAGTAGGGATCTGGTTCACTGCTTTAGGTATTAGTACTATGGCATTCAACCTAAATGGTTTCAATTTCAACCAATCTGTAGTTGATAGCCAAGGTCGCGTTATTAATACTTGGGCTGATATCATCAACCGTGCTAATCTTGGTATGGAGGTAATGCACGAACGTAATGCTCACAACTTCCCTCTAGACCTAGCTGCTCTTGAAGTTCCTTACCTTAATGGATAA\n",
      ">lcl|mexicana.1_cds_matK.zmex [mexicana]\n",
      "ATGGAAAAATTCGAAGGGTATTCAGAAAAACAGAAATCTCGTCAACACTACTTCGTCTACCCACTTCTCTTTCAGGAATATATTTATGCATTTGCTCATGATTATGGATTAAATGGTTCCGAACCCGTGGAAATTTTTGGTTGTAATAACAAGAAATTTAGTTCACTACTTGTGAAACGTTTAATTATTCGAATGTATCAGCAGAATTTTTTAATTAATTCGGTTAATTATCCTAACCAAGATCGATTGTTGGATCACCGTAATTATTTTTATTCTGAGTTTTATTCTCAGATTCTATCTGAGGGGTTTGCGATCGTTGTAGAAATCCCACTCTCGCTAGGGCAACTATCTTGTCCGGAAGAAAAAGAAATACCAAATTTTCAAAATTTACAATCTATTCATTCAATATTTCCCTTTTTAGAAGACAAATTTTTGCATTTACATTATCTATCACATATAAAAATACCCTATCCTATCCATTTAGAAATCCTGGTTCAACTCCTTGAATACCGGATTCAAGATGTTCCCTCTTTGCATTTATTGCGATTCTTTCTCCACTATTATTCGAATTGGAATAGTTTTATTACTTCAATGAAATCCATTTTTCTTTTGAAAAAAGAAAATAAAAGACTATTTCGATTCCTATATAACTCTTATGTATCAGAATATGAATTTTTCTTGTTGTTTCTTCATAAACAATCTTCTTGCTTACGATTAACATCTTCTGGAACCTTTCTGGAACGAATCATCTTTTCTGGGAAGATGGAACATTTTGGTGTAATGTACCCGGGGTTTTTTCGGAAAACCATATGGTTCTTTATGGATCCTCTTATGCATTATGTTCGATATCAAGGAAAGGCAATTCTTGCATCAAAAGGCACTCTTCTTTTGAAGAAGAAATGGAAATCTTACCTTGTCAATTTCTCGCAATATTTTTTCTCTTTTTGGACTCAACCACAAAGGATTCGTCTAAACCAATTAACAAACTCTTGCTTCGATTTTCTGGGGTACCTTTCAAGTGTACCAATAAATACTTTGTTAGTAAGGAATCAAATGCTGGAGAATTCTTTTCTAATAGATACTCGAATGAAAAAATTCGATACCACAGTCCTTGCAACTCCCCTTGTCGGATCCTTATCAAAAGCTCAATTTTGTACTGGATCGGGGCATCCTATTAGTAAACCCGTTTGGACTGATTTATCAGATTGGGATATTCTTGATCGTTTTGGTCGGATATGTAGAAATATTTTTCATTATCATAGTGGATCTTCGAAAAAACAGACTTTGTATCGACTAAAATATATACTTCGACTTTCATGTGCTAGAACTTTAGCTCGTAAACATAAAAGTACGGTACGAACTTTTATGCAACGATTGGGTTCGGTATTTTTAGAAGAATTTTTTACGGAAGAAGAGCAAGTTTTTTCTTTGATGTTCACCAAAACAATTCACTTTTCTTTCCATGGATCACACAGTGAGCGTATTTGGTATTTGGATATTATCCGTATCAATGACCTGGTGAATCCTCTTACTCTTAATTAA\n",
      ">lcl|mexicana.1_cds_rps16.zmex [mexicana]\n",
      "ATGGTAAAACTTCGTTTAAAACGATGTGGTAGAAAGCAACAAGCTATCTATCGAATCGTTGCAATTGATGTTCGATCTCGAAGAGAAGGAAGAGATCTTCGAAAAGTAGGTTTTTATGATCCGATAAAGAATCAAACTTGTTTAAATGTTCCAGCTATTCTCTATTTCCTTGAAAAGGGTGCTCAACCTACAAGAACAGTTTATGATATTTTAAGGAAGGCAGAATTCTTTAAAGATAAAGAAAGAACTTTGAGTTAA\n",
      ">lcl|mexicana.1_cds_psbK.zmex [mexicana]\n",
      "ATGCCTAATATACTTAGTTTAACCTGTATCTGTTTTAATTCTGTTCTTTGTCCGACTAGCTTTTTCTTCGCCAAATTACCCGAAGCTTATGCCATTTTCAACCCAATCGTGGATGTTATGCCTGTCATACCTGTACTCTTTTTTCTATTAGCGTTTGTTTGGCAAGCTGCTGTAAGTTTTCGATGA\n",
      "sed: couldn't write 2205 items to stdout: Broken pipe\n",
      "sed: couldn't flush stdout: Broken pipe\n"
     ]
    }
   ],
   "source": [
    "sed -E 's/_.*/.zmex [mexicana]/' zmex2.cds.fna | sed -E 's/>/>lcl|mexicana.1_cds_/' | head"
   ]
  },
  {
   "cell_type": "code",
   "execution_count": 10,
   "metadata": {},
   "outputs": [
    {
     "name": "stdout",
     "output_type": "stream",
     "text": [
      ">lcl|mexicana.1_cds_rps12.zmex [mexicana]\n",
      ">lcl|mexicana.1_cds_psbA.zmex [mexicana]\n",
      ">lcl|mexicana.1_cds_matK.zmex [mexicana]\n",
      ">lcl|mexicana.1_cds_rps16.zmex [mexicana]\n",
      ">lcl|mexicana.1_cds_psbK.zmex [mexicana]\n",
      ">lcl|mexicana.1_cds_psbI.zmex [mexicana]\n",
      ">lcl|mexicana.1_cds_psbD.zmex [mexicana]\n",
      ">lcl|mexicana.1_cds_psbZ.zmex [mexicana]\n",
      ">lcl|mexicana.1_cds_psbM.zmex [mexicana]\n",
      ">lcl|mexicana.1_cds_petN.zmex [mexicana]\n"
     ]
    }
   ],
   "source": [
    "sed -E 's/_.*/.zmex [mexicana]/' zmex2.cds.fna | sed -E 's/>/>lcl|mexicana.1_cds_/' | grep \">\" | head"
   ]
  },
  {
   "cell_type": "code",
   "execution_count": 11,
   "metadata": {},
   "outputs": [
    {
     "name": "stdout",
     "output_type": "stream",
     "text": [
      ">rps12_join{[69326:69439](-),[92925:93156](-),[92356:92384](-)}\n",
      "ATGCCAACGGTTAAACAACTTATTAGAAATGCAAGACAGCCAATACGAAATGCTAGAAAATCGGCCGCGCTTAAGGGATGTCCTCAGCGTCGAGGAACATGTGCTAGGGTGTATACTATCAACCCCAAAAAACCCAACTCTGCCTTACGTAAAGTTGCCAGAGTACGATTAACCTCTGGATTTGAAATCACTGCTTATATACCTGGTATTGGCCATAATTTACAAGAACATTCTGTAGTATTAGTAAGAGGAGGAAGGGTTAAGGATTTACCCGGTGTGAGATATCGCATTATTCGAGGAACCCTAGATGCTGTCGCAGTAAAGAATCGTCAACAAGGGCGTTCTAAATATGGGGCCAAAAAGCCAAAAAAATAA\n",
      ">psbA_[89:1150](-)\n",
      "ATGACTGCAATTTTAGAGAGACGCGAAAGTACAAGCCTGTGGGGTCGCTTCTGCAACTGGATAACTAGCACCGAAAACCGTCTTTACATTGGATGGTTCGGTGTTTTGATGATCCCTACCTTATTGACCGCAACTTCCGTATTTATTATCGCCTTCATCGCTGCTCCTCCAGTAGATATTGATGGTATTCGTGAGCCTGTTTCTGGTTCTTTACTTTATGGAAACAATATTATCTCTGGTGCTATTATTCCTACTTCTGCGGCGATCGGATTGCATTTTTACCCAATTTGGGAAGCTGCATCTGTTGATGAATGGTTATACAATGGCGGTCCTTATGAGCTAATTGTTCTACACTTCTTACTTGGTGTAGCTTGTTATATGGGTCGTGAGTGGGAACTTAGTTTCCGTCTGGGTATGCGCCCTTGGATTGCTGTTGCATATTCAGCTCCTGTTGCAGCTGCTACTGCTGTTTTCTTGATTTACCCTATTGGTCAAGGAAGTTTCTCTGATGGTATGCCTTTAGGAATATCTGGTACTTTCAACTTTATGATTGTATTCCAGGCAGAGCACAACATCCTTATGCATCCATTTCACATGTTAGGTGTAGCTGGTGTATTCGGCGGTTCCCTATTCAGTGCTATGCATGGTTCCTTGGTAACCTCTAGTTTGATCAGGGAAACCACTGAAAATGAGTCTGCTAATGAGGGTTACAAATTTGGTCAGGAAGAAGAGACTTATAATATTGTGGCTGCTCACGGTTATTTTGGTCGATTAATCTTCCAATATGCTAGTTTCAACAATTCTCGTTCTTTACACTTCTTCTTGGCTGCTTGGCCTGTAGTAGGGATCTGGTTCACTGCTTTAGGTATTAGTACTATGGCATTCAACCTAAATGGTTTCAATTTCAACCAATCTGTAGTTGATAGCCAAGGTCGCGTTATTAATACTTGGGCTGATATCATCAACCGTGCTAATCTTGGTATGGAGGTAATGCACGAACGTAATGCTCACAACTTCCCTCTAGACCTAGCTGCTCTTGAAGTTCCTTACCTTAATGGATAA\n",
      ">matK_[1670:3211](-)\n",
      "ATGGAAAAATTCGAAGGGTATTCAGAAAAACAGAAATCTCGTCAACACTACTTCGTCTACCCACTTCTCTTTCAGGAATATATTTATGCATTTGCTCATGATTATGGATTAAATGGTTCCGAACCCGTGGAAATTTTTGGTTGTAATAACAAGAAATTTAGTTCACTACTTGTGAAACGTTTAATTATTCGAATGTATCAGCAGAATTTTTTAATTAATTCGGTTAATTATCCTAACCAAGATCGATTGTTGGATCACCGTAATTATTTTTATTCTGAGTTTTATTCTCAGATTCTATCTGAGGGGTTTGCGATCGTTGTAGAAATCCCACTCTCGCTAGGGCAACTATCTTGTCCGGAAGAAAAAGAAATACCAAATTTTCAAAATTTACAATCTATTCATTCAATATTTCCCTTTTTAGAAGACAAATTTTTGCATTTACATTATCTATCACATATAAAAATACCCTATCCTATCCATTTAGAAATCCTGGTTCAACTCCTTGAATACCGGATTCAAGATGTTCCCTCTTTGCATTTATTGCGATTCTTTCTCCACTATTATTCGAATTGGAATAGTTTTATTACTTCAATGAAATCCATTTTTCTTTTGAAAAAAGAAAATAAAAGACTATTTCGATTCCTATATAACTCTTATGTATCAGAATATGAATTTTTCTTGTTGTTTCTTCATAAACAATCTTCTTGCTTACGATTAACATCTTCTGGAACCTTTCTGGAACGAATCATCTTTTCTGGGAAGATGGAACATTTTGGTGTAATGTACCCGGGGTTTTTTCGGAAAACCATATGGTTCTTTATGGATCCTCTTATGCATTATGTTCGATATCAAGGAAAGGCAATTCTTGCATCAAAAGGCACTCTTCTTTTGAAGAAGAAATGGAAATCTTACCTTGTCAATTTCTCGCAATATTTTTTCTCTTTTTGGACTCAACCACAAAGGATTCGTCTAAACCAATTAACAAACTCTTGCTTCGATTTTCTGGGGTACCTTTCAAGTGTACCAATAAATACTTTGTTAGTAAGGAATCAAATGCTGGAGAATTCTTTTCTAATAGATACTCGAATGAAAAAATTCGATACCACAGTCCTTGCAACTCCCCTTGTCGGATCCTTATCAAAAGCTCAATTTTGTACTGGATCGGGGCATCCTATTAGTAAACCCGTTTGGACTGATTTATCAGATTGGGATATTCTTGATCGTTTTGGTCGGATATGTAGAAATATTTTTCATTATCATAGTGGATCTTCGAAAAAACAGACTTTGTATCGACTAAAATATATACTTCGACTTTCATGTGCTAGAACTTTAGCTCGTAAACATAAAAGTACGGTACGAACTTTTATGCAACGATTGGGTTCGGTATTTTTAGAAGAATTTTTTACGGAAGAAGAGCAAGTTTTTTCTTTGATGTTCACCAAAACAATTCACTTTTCTTTCCATGGATCACACAGTGAGCGTATTTGGTATTTGGATATTATCCGTATCAATGACCTGGTGAATCCTCTTACTCTTAATTAA\n",
      ">rps16_join{[5558:5597](-),[4484:4701](-)}\n",
      "ATGGTAAAACTTCGTTTAAAACGATGTGGTAGAAAGCAACAAGCTATCTATCGAATCGTTGCAATTGATGTTCGATCTCGAAGAGAAGGAAGAGATCTTCGAAAAGTAGGTTTTTATGATCCGATAAAGAATCAAACTTGTTTAAATGTTCCAGCTATTCTCTATTTCCTTGAAAAGGGTGCTCAACCTACAAGAACAGTTTATGATATTTTAAGGAAGGCAGAATTCTTTAAAGATAAAGAAAGAACTTTGAGTTAA\n",
      ">psbK_[7195:7380](+)\n",
      "ATGCCTAATATACTTAGTTTAACCTGTATCTGTTTTAATTCTGTTCTTTGTCCGACTAGCTTTTTCTTCGCCAAATTACCCGAAGCTTATGCCATTTTCAACCCAATCGTGGATGTTATGCCTGTCATACCTGTACTCTTTTTTCTATTAGCGTTTGTTTGGCAAGCTGCTGTAAGTTTTCGATGA\n"
     ]
    }
   ],
   "source": [
    "head zmex2.cds.fna"
   ]
  },
  {
   "cell_type": "code",
   "execution_count": 12,
   "metadata": {},
   "outputs": [],
   "source": [
    "sed -E 's/_.*/.zmex [mexicana]/' zmex2.cds.fna | sed -E 's/>/>lcl|mexicana.1_cds_/' > zmex3.cds.fna"
   ]
  },
  {
   "cell_type": "code",
   "execution_count": 13,
   "metadata": {},
   "outputs": [
    {
     "name": "stdout",
     "output_type": "stream",
     "text": [
      ">lcl|mexicana.1_cds_rps12.zmex [mexicana]\n",
      ">lcl|mexicana.1_cds_psbA.zmex [mexicana]\n",
      ">lcl|mexicana.1_cds_matK.zmex [mexicana]\n",
      ">lcl|mexicana.1_cds_rps16.zmex [mexicana]\n",
      ">lcl|mexicana.1_cds_psbK.zmex [mexicana]\n",
      ">lcl|mexicana.1_cds_psbI.zmex [mexicana]\n",
      ">lcl|mexicana.1_cds_psbD.zmex [mexicana]\n",
      ">lcl|mexicana.1_cds_psbZ.zmex [mexicana]\n",
      ">lcl|mexicana.1_cds_psbM.zmex [mexicana]\n",
      ">lcl|mexicana.1_cds_petN.zmex [mexicana]\n"
     ]
    }
   ],
   "source": [
    "grep \">\" zmex3.cds.fna | head"
   ]
  },
  {
   "cell_type": "code",
   "execution_count": 20,
   "metadata": {},
   "outputs": [
    {
     "name": "stdout",
     "output_type": "stream",
     "text": [
      ">rps12_join{[69326:69439](-),[92925:93156](-),[92356:92384](-)}\n",
      ">psbA_[89:1150](-)\n",
      ">matK_[1670:3211](-)\n",
      ">rps16_join{[5558:5597](-),[4484:4701](-)}\n",
      ">psbK_[7195:7380](+)\n",
      ">psbI_[7776:7886](+)\n",
      ">psbD_[9084:10145](+)\n",
      ">psbZ_[12019:12207](+)\n",
      ">psbM_[18178:18282](+)\n",
      ">petN_[19085:19174](-)\n"
     ]
    }
   ],
   "source": [
    "grep \">\" zmex.cds.faa | head"
   ]
  },
  {
   "cell_type": "code",
   "execution_count": 21,
   "metadata": {},
   "outputs": [],
   "source": [
    "cp zmex.cds.faa zmex2.cds.faa"
   ]
  },
  {
   "cell_type": "code",
   "execution_count": 22,
   "metadata": {},
   "outputs": [
    {
     "name": "stdout",
     "output_type": "stream",
     "text": [
      ">lcl|mexicana.1_prot_rps12.zmex [mexicana]\n",
      ">lcl|mexicana.1_prot_psbA.zmex [mexicana]\n",
      ">lcl|mexicana.1_prot_matK.zmex [mexicana]\n",
      ">lcl|mexicana.1_prot_rps16.zmex [mexicana]\n",
      ">lcl|mexicana.1_prot_psbK.zmex [mexicana]\n",
      ">lcl|mexicana.1_prot_psbI.zmex [mexicana]\n",
      ">lcl|mexicana.1_prot_psbD.zmex [mexicana]\n",
      ">lcl|mexicana.1_prot_psbZ.zmex [mexicana]\n",
      ">lcl|mexicana.1_prot_psbM.zmex [mexicana]\n",
      ">lcl|mexicana.1_prot_petN.zmex [mexicana]\n"
     ]
    }
   ],
   "source": [
    "sed -E 's/_.*/.zmex [mexicana]/' zmex2.cds.faa | sed -E 's/>/>lcl|mexicana.1_prot_/' | grep \">\" | head"
   ]
  },
  {
   "cell_type": "code",
   "execution_count": 23,
   "metadata": {},
   "outputs": [],
   "source": [
    "sed -E 's/_.*/.zmex [mexicana]/' zmex2.cds.faa | sed -E 's/>/>lcl|mexicana.1_prot_/' > zmex3.cds.faa"
   ]
  },
  {
   "cell_type": "code",
   "execution_count": 14,
   "metadata": {},
   "outputs": [],
   "source": [
    "cp inia.cds.fna inia2.cds.fna"
   ]
  },
  {
   "cell_type": "code",
   "execution_count": 15,
   "metadata": {},
   "outputs": [
    {
     "name": "stdout",
     "output_type": "stream",
     "text": [
      ">rps12_join{[69317:69430](-),[92912:93143](-),[92343:92371](-)}\n",
      ">psbA_[89:1150](-)\n",
      ">matK_[1670:3211](-)\n",
      ">rps16_join{[5557:5596](-),[4483:4700](-)}\n",
      ">psbK_[7194:7379](+)\n",
      ">psbI_[7774:7884](+)\n",
      ">psbD_[9082:10143](+)\n",
      ">psbZ_[12015:12203](+)\n",
      ">psbM_[18173:18277](+)\n",
      ">petN_[19079:19168](-)\n"
     ]
    }
   ],
   "source": [
    "grep \">\" inia2.cds.fna | head"
   ]
  },
  {
   "cell_type": "code",
   "execution_count": 17,
   "metadata": {},
   "outputs": [
    {
     "name": "stdout",
     "output_type": "stream",
     "text": [
      ">lcl|INIA.1_cds_rps12.inia [zm_inia601]\n",
      ">lcl|INIA.1_cds_psbA.inia [zm_inia601]\n",
      ">lcl|INIA.1_cds_matK.inia [zm_inia601]\n",
      ">lcl|INIA.1_cds_rps16.inia [zm_inia601]\n",
      ">lcl|INIA.1_cds_psbK.inia [zm_inia601]\n",
      ">lcl|INIA.1_cds_psbI.inia [zm_inia601]\n",
      ">lcl|INIA.1_cds_psbD.inia [zm_inia601]\n",
      ">lcl|INIA.1_cds_psbZ.inia [zm_inia601]\n",
      ">lcl|INIA.1_cds_psbM.inia [zm_inia601]\n",
      ">lcl|INIA.1_cds_petN.inia [zm_inia601]\n"
     ]
    }
   ],
   "source": [
    "sed -E 's/_.*/.inia [zm_inia601]/' inia2.cds.fna | sed -E 's/>/>lcl|INIA.1_cds_/' | grep \">\" | head"
   ]
  },
  {
   "cell_type": "code",
   "execution_count": 18,
   "metadata": {},
   "outputs": [],
   "source": [
    "sed -E 's/_.*/.inia [zm_inia601]/' inia2.cds.fna | sed -E 's/>/>lcl|INIA.1_cds_/' > inia3.cds.fna"
   ]
  },
  {
   "cell_type": "code",
   "execution_count": 19,
   "metadata": {},
   "outputs": [
    {
     "name": "stdout",
     "output_type": "stream",
     "text": [
      ">lcl|INIA.1_cds_rps12.inia [zm_inia601]\n",
      ">lcl|INIA.1_cds_psbA.inia [zm_inia601]\n",
      ">lcl|INIA.1_cds_matK.inia [zm_inia601]\n",
      ">lcl|INIA.1_cds_rps16.inia [zm_inia601]\n",
      ">lcl|INIA.1_cds_psbK.inia [zm_inia601]\n",
      ">lcl|INIA.1_cds_psbI.inia [zm_inia601]\n",
      ">lcl|INIA.1_cds_psbD.inia [zm_inia601]\n",
      ">lcl|INIA.1_cds_psbZ.inia [zm_inia601]\n",
      ">lcl|INIA.1_cds_psbM.inia [zm_inia601]\n",
      ">lcl|INIA.1_cds_petN.inia [zm_inia601]\n"
     ]
    }
   ],
   "source": [
    "grep \">\" inia3.cds.fna | head"
   ]
  },
  {
   "cell_type": "code",
   "execution_count": 24,
   "metadata": {},
   "outputs": [],
   "source": [
    "cp inia.cds.faa inia2.cds.faa"
   ]
  },
  {
   "cell_type": "code",
   "execution_count": 25,
   "metadata": {},
   "outputs": [
    {
     "name": "stdout",
     "output_type": "stream",
     "text": [
      ">lcl|INIA.1_prot_rps12.inia [zm_inia601]\n",
      ">lcl|INIA.1_prot_psbA.inia [zm_inia601]\n",
      ">lcl|INIA.1_prot_matK.inia [zm_inia601]\n",
      ">lcl|INIA.1_prot_rps16.inia [zm_inia601]\n",
      ">lcl|INIA.1_prot_psbK.inia [zm_inia601]\n",
      ">lcl|INIA.1_prot_psbI.inia [zm_inia601]\n",
      ">lcl|INIA.1_prot_psbD.inia [zm_inia601]\n",
      ">lcl|INIA.1_prot_psbZ.inia [zm_inia601]\n",
      ">lcl|INIA.1_prot_psbM.inia [zm_inia601]\n",
      ">lcl|INIA.1_prot_petN.inia [zm_inia601]\n"
     ]
    }
   ],
   "source": [
    "sed -E 's/_.*/.inia [zm_inia601]/' inia2.cds.faa | sed -E 's/>/>lcl|INIA.1_prot_/' | grep \">\" | head"
   ]
  },
  {
   "cell_type": "code",
   "execution_count": 26,
   "metadata": {},
   "outputs": [],
   "source": [
    "sed -E 's/_.*/.inia [zm_inia601]/' inia2.cds.faa | sed -E 's/>/>lcl|INIA.1_prot_/' > inia3.cds.faa"
   ]
  },
  {
   "cell_type": "code",
   "execution_count": 27,
   "metadata": {},
   "outputs": [
    {
     "name": "stdout",
     "output_type": "stream",
     "text": [
      ">lcl|INIA.1_prot_rps12.inia [zm_inia601]\n",
      ">lcl|INIA.1_prot_psbA.inia [zm_inia601]\n",
      ">lcl|INIA.1_prot_matK.inia [zm_inia601]\n",
      ">lcl|INIA.1_prot_rps16.inia [zm_inia601]\n",
      ">lcl|INIA.1_prot_psbK.inia [zm_inia601]\n",
      ">lcl|INIA.1_prot_psbI.inia [zm_inia601]\n",
      ">lcl|INIA.1_prot_psbD.inia [zm_inia601]\n",
      ">lcl|INIA.1_prot_psbZ.inia [zm_inia601]\n",
      ">lcl|INIA.1_prot_psbM.inia [zm_inia601]\n",
      ">lcl|INIA.1_prot_petN.inia [zm_inia601]\n"
     ]
    }
   ],
   "source": [
    "grep \">\" inia3.cds.faa | head"
   ]
  },
  {
   "cell_type": "code",
   "execution_count": null,
   "metadata": {},
   "outputs": [],
   "source": [
    "### For test 6"
   ]
  },
  {
   "cell_type": "markdown",
   "metadata": {},
   "source": [
    "zmex3.cds.fna, zmex3.cds.faa, inia3.cds.fna and inia3.cds.faa will be used in test 6"
   ]
  },
  {
   "cell_type": "code",
   "execution_count": 28,
   "metadata": {},
   "outputs": [],
   "source": [
    "rm zmex.cds.fna zmex.cds.faa zmex2.cds.fna zmex2.cds.faa inia.cds.fna inia.cds.faa inia2.cds.fna inia2.cds.faa "
   ]
  },
  {
   "cell_type": "code",
   "execution_count": 29,
   "metadata": {},
   "outputs": [],
   "source": [
    "mv zmex3.cds.fna zmex.cds.fna"
   ]
  },
  {
   "cell_type": "code",
   "execution_count": 30,
   "metadata": {},
   "outputs": [],
   "source": [
    "mv zmex3.cds.faa zmex.cds.faa"
   ]
  },
  {
   "cell_type": "code",
   "execution_count": 31,
   "metadata": {},
   "outputs": [],
   "source": [
    "mv inia3.cds.fna inia.cds.fna"
   ]
  },
  {
   "cell_type": "code",
   "execution_count": 32,
   "metadata": {},
   "outputs": [],
   "source": [
    "mv inia3.cds.faa inia.cds.faa"
   ]
  },
  {
   "cell_type": "code",
   "execution_count": 34,
   "metadata": {},
   "outputs": [
    {
     "name": "stdout",
     "output_type": "stream",
     "text": [
      "\u001b[0m\u001b[01;32mA188.cds.fna\u001b[0m\n",
      "\u001b[01;32mb37C.cds.fna\u001b[0m\n",
      "\u001b[01;32mb37N.cds.fna\u001b[0m\n",
      "\u001b[01;32mb37S.cds.fna\u001b[0m\n",
      "\u001b[01;32mb37T.cds.fna\u001b[0m\n",
      "\u001b[01;32mb73.cds.fna\u001b[0m\n",
      "\u001b[01;32mb73v1.cds.fna\u001b[0m\n",
      "\u001b[01;32mdiploperennis.cds.fna\u001b[0m\n",
      "\u001b[01;32mhuehuetenangensis.cds.fna\u001b[0m\n",
      "\u001b[01;32minia.cds.fna\u001b[0m\n",
      "\u001b[01;32mluxurians.cds.fna\u001b[0m\n",
      "\u001b[01;32mnicaraguensis.cds.fna\u001b[0m\n",
      "\u001b[01;32mperennis.cds.fna\u001b[0m\n",
      "\u001b[01;32mzhengdan958.cds.fna\u001b[0m\n",
      "\u001b[01;32mzmex.cds.fna\u001b[0m\n"
     ]
    }
   ],
   "source": [
    "ls -1 *.fna"
   ]
  },
  {
   "cell_type": "code",
   "execution_count": 36,
   "metadata": {},
   "outputs": [
    {
     "name": "stdout",
     "output_type": "stream",
     "text": [
      "15\n"
     ]
    }
   ],
   "source": [
    "ls -1 *.fna | wc -l"
   ]
  }
 ],
 "metadata": {
  "kernelspec": {
   "display_name": "Bash",
   "language": "bash",
   "name": "bash"
  },
  "language_info": {
   "codemirror_mode": "shell",
   "file_extension": ".sh",
   "mimetype": "text/x-sh",
   "name": "bash"
  },
  "toc": {
   "base_numbering": 1,
   "nav_menu": {},
   "number_sections": true,
   "sideBar": true,
   "skip_h1_title": false,
   "title_cell": "Table of Contents",
   "title_sidebar": "Contents",
   "toc_cell": false,
   "toc_position": {},
   "toc_section_display": true,
   "toc_window_display": false
  },
  "varInspector": {
   "cols": {
    "lenName": 16,
    "lenType": 16,
    "lenVar": 40
   },
   "kernels_config": {
    "python": {
     "delete_cmd_postfix": "",
     "delete_cmd_prefix": "del ",
     "library": "var_list.py",
     "varRefreshCmd": "print(var_dic_list())"
    },
    "r": {
     "delete_cmd_postfix": ") ",
     "delete_cmd_prefix": "rm(",
     "library": "var_list.r",
     "varRefreshCmd": "cat(var_dic_list()) "
    }
   },
   "types_to_exclude": [
    "module",
    "function",
    "builtin_function_or_method",
    "instance",
    "_Feature"
   ],
   "window_display": false
  }
 },
 "nbformat": 4,
 "nbformat_minor": 4
}
