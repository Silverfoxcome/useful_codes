{
 "cells": [
  {
   "cell_type": "code",
   "execution_count": 1,
   "metadata": {},
   "outputs": [
    {
     "name": "stdout",
     "output_type": "stream",
     "text": [
      "/media/koala/windiska/tesis/assembly_zmex/novoplasty_336/novoplasty4/mummer/annotation\n"
     ]
    }
   ],
   "source": [
    "pwd"
   ]
  },
  {
   "cell_type": "markdown",
   "metadata": {},
   "source": [
    "The 2 list of gene names have to be sorted (and with unique entries would also be good)."
   ]
  },
  {
   "cell_type": "code",
   "execution_count": null,
   "metadata": {},
   "outputs": [],
   "source": [
    "sort geseq_mexicana_i1/zmex_geseq_80_cds_names.txt > geseq_mexicana_i1/zmex_geseq_80_cds_names_sorted.txt"
   ]
  },
  {
   "cell_type": "code",
   "execution_count": null,
   "metadata": {},
   "outputs": [],
   "source": [
    "sort cpgavas/b73ref/zmex_geseq_80_cds_names.txt > cpgavas/b73ref/zmex_geseq_80_cds_names_sorted.txt"
   ]
  },
  {
   "cell_type": "code",
   "execution_count": 7,
   "metadata": {},
   "outputs": [
    {
     "name": "stdout",
     "output_type": "stream",
     "text": [
      "atpA\n",
      "atpB\n",
      "atpE\n",
      "atpF\n",
      "atpH\n",
      "atpI\n",
      "ccsA\n",
      "cemA\n",
      "clpP\n",
      "infA\n"
     ]
    }
   ],
   "source": [
    "head geseq_mexicana_i1/zmex_geseq_80_cds_names_sorted.txt "
   ]
  },
  {
   "cell_type": "code",
   "execution_count": 6,
   "metadata": {},
   "outputs": [
    {
     "name": "stdout",
     "output_type": "stream",
     "text": [
      "atpA\n",
      "atpB\n",
      "atpE\n",
      "atpF\n",
      "atpH\n",
      "atpI\n",
      "ccsA\n",
      "cemA\n",
      "clpP\n",
      "infA\n"
     ]
    }
   ],
   "source": [
    "head cpgavas/b73ref/zmex_cpgavas_83_cds_names_sorted.txt"
   ]
  },
  {
   "cell_type": "markdown",
   "metadata": {},
   "source": [
    "`comm` is useful to compare 2 sorted files. \n",
    "\n",
    "```\n",
    "-1: suppress lines unique to file1 (column 1)\n",
    "-2: suppress lines unique to file2 (column 2)\n",
    "-3: suppress lines common to file1 and file2 (column3)\n",
    "```"
   ]
  },
  {
   "cell_type": "code",
   "execution_count": null,
   "metadata": {},
   "outputs": [],
   "source": [
    "comm -2 -3 zmex_geseq_80_cds_names_sorted.txt zmex_cpgavas_83_cds_names_sorted.txt > uniq_to_geseq.txt"
   ]
  },
  {
   "cell_type": "code",
   "execution_count": null,
   "metadata": {},
   "outputs": [],
   "source": [
    "comm -2 -3 zmex_cpgavas_83_cds_names_sorted.txt zmex_geseq_80_cds_names_sorted.txt > uniq_to_cpgavas.txt"
   ]
  },
  {
   "cell_type": "code",
   "execution_count": 8,
   "metadata": {},
   "outputs": [
    {
     "name": "stdout",
     "output_type": "stream",
     "text": [
      "pbf1\n",
      "psbC\n",
      "rpl23-fragment\n",
      "rps12-fragment\n",
      "ycf1\n",
      "ycf2\n"
     ]
    }
   ],
   "source": [
    "cat geseq_mexicana_i1/uniq_to_geseq.txt"
   ]
  },
  {
   "cell_type": "code",
   "execution_count": 9,
   "metadata": {},
   "outputs": [
    {
     "name": "stdout",
     "output_type": "stream",
     "text": [
      "ndhB\n",
      "psbN\n",
      "rpl2\n",
      "rpl23\n",
      "rps12\n",
      "rps15\n",
      "rps19\n",
      "rps3\n",
      "rps7\n"
     ]
    }
   ],
   "source": [
    "cat geseq_mexicana_i1/uniq_to_cpgavas.txt"
   ]
  },
  {
   "cell_type": "code",
   "execution_count": 10,
   "metadata": {},
   "outputs": [
    {
     "name": "stdout",
     "output_type": "stream",
     "text": [
      "      1 atpA\n",
      "      1 atpB\n",
      "      1 atpE\n",
      "      1 atpF\n",
      "      1 atpH\n",
      "      1 atpI\n",
      "      1 ccsA\n",
      "      1 cemA\n",
      "      1 clpP\n",
      "      1 infA\n",
      "      1 matK\n",
      "      1 ndhA\n",
      "      2 ndhB\n",
      "      1 ndhC\n",
      "      1 ndhD\n",
      "      1 ndhE\n",
      "      1 ndhF\n",
      "      1 ndhG\n",
      "      1 ndhH\n",
      "      1 ndhI\n",
      "      1 ndhJ\n",
      "      1 ndhK\n",
      "      1 petA\n",
      "      1 petB\n",
      "      1 petD\n",
      "      1 petG\n",
      "      1 petL\n",
      "      1 petN\n",
      "      1 psaA\n",
      "      1 psaB\n",
      "      1 psaC\n",
      "      1 psaI\n",
      "      1 psaJ\n",
      "      1 psbA\n",
      "      1 psbB\n",
      "      1 psbD\n",
      "      1 psbE\n",
      "      1 psbF\n",
      "      1 psbH\n",
      "      1 psbI\n",
      "      1 psbJ\n",
      "      1 psbK\n",
      "      1 psbL\n",
      "      1 psbM\n",
      "      1 psbN\n",
      "      1 psbT\n",
      "      1 psbZ\n",
      "      1 rbcL\n",
      "      1 rpl14\n",
      "      1 rpl16\n",
      "      2 rpl2\n",
      "      1 rpl20\n",
      "      1 rpl22\n",
      "      2 rpl23\n",
      "      1 rpl32\n",
      "      1 rpl33\n",
      "      1 rpl36\n",
      "      1 rpoA\n",
      "      1 rpoB\n",
      "      1 rpoC1\n",
      "      1 rpoC2\n",
      "      1 rps11\n",
      "      2 rps12\n",
      "      1 rps14\n",
      "      2 rps15\n",
      "      1 rps16\n",
      "      1 rps18\n",
      "      2 rps19\n",
      "      1 rps2\n",
      "      2 rps3\n",
      "      1 rps4\n",
      "      2 rps7\n",
      "      1 rps8\n",
      "      1 ycf3\n",
      "      1 ycf4\n"
     ]
    }
   ],
   "source": [
    "uniq -c cpgavas/b73ref/zmex_cpgavas_83_cds_names_sorted.txt"
   ]
  },
  {
   "cell_type": "code",
   "execution_count": 11,
   "metadata": {},
   "outputs": [
    {
     "name": "stdout",
     "output_type": "stream",
     "text": [
      "      1 atpA\n",
      "      1 atpB\n",
      "      1 atpE\n",
      "      1 atpF\n",
      "      1 atpH\n",
      "      1 atpI\n",
      "      1 ccsA\n",
      "      1 cemA\n",
      "      1 clpP\n",
      "      1 infA\n",
      "      1 matK\n",
      "      1 ndhA\n",
      "      1 ndhB\n",
      "      1 ndhC\n",
      "      1 ndhD\n",
      "      1 ndhE\n",
      "      1 ndhF\n",
      "      1 ndhG\n",
      "      1 ndhH\n",
      "      1 ndhI\n",
      "      1 ndhJ\n",
      "      1 ndhK\n",
      "      1 pbf1\n",
      "      1 petA\n",
      "      1 petB\n",
      "      1 petD\n",
      "      1 petG\n",
      "      1 petL\n",
      "      1 petN\n",
      "      1 psaA\n",
      "      1 psaB\n",
      "      1 psaC\n",
      "      1 psaI\n",
      "      1 psaJ\n",
      "      1 psbA\n",
      "      1 psbB\n",
      "      1 psbC\n",
      "      1 psbD\n",
      "      1 psbE\n",
      "      1 psbF\n",
      "      1 psbH\n",
      "      1 psbI\n",
      "      1 psbJ\n",
      "      1 psbK\n",
      "      1 psbL\n",
      "      1 psbM\n",
      "      1 psbT\n",
      "      1 psbZ\n",
      "      1 rbcL\n",
      "      1 rpl14\n",
      "      1 rpl16\n",
      "      1 rpl2\n",
      "      1 rpl20\n",
      "      1 rpl22\n",
      "      1 rpl23\n",
      "      1 rpl23-fragment\n",
      "      1 rpl32\n",
      "      1 rpl33\n",
      "      1 rpl36\n",
      "      1 rpoA\n",
      "      1 rpoB\n",
      "      1 rpoC1\n",
      "      1 rpoC2\n",
      "      1 rps11\n",
      "      1 rps12\n",
      "      1 rps12-fragment\n",
      "      1 rps14\n",
      "      1 rps15\n",
      "      1 rps16\n",
      "      1 rps18\n",
      "      1 rps19\n",
      "      1 rps2\n",
      "      1 rps3\n",
      "      1 rps4\n",
      "      1 rps7\n",
      "      1 rps8\n",
      "      1 ycf1\n",
      "      1 ycf2\n",
      "      1 ycf3\n",
      "      1 ycf4\n"
     ]
    }
   ],
   "source": [
    "uniq -c geseq_mexicana_i1/zmex_geseq_80_cds_names_sorted.txt"
   ]
  },
  {
   "cell_type": "markdown",
   "metadata": {},
   "source": [
    "## Links"
   ]
  },
  {
   "cell_type": "markdown",
   "metadata": {},
   "source": [
    "* [Compare two files line by line and generate the difference in another file\n",
    "](https://stackoverflow.com/questions/4544709/compare-two-files-line-by-line-and-generate-the-difference-in-another-file)\n",
    "* [How To Compare Two Files In Unix: File Comparison Commands](https://www.softwaretestinghelp.com/compare-two-files-unix/)\n",
    "* [Back to Basics: Sort and Uniq](https://www.linuxjournal.com/content/back-basics-sort-and-uniq)"
   ]
  }
 ],
 "metadata": {
  "kernelspec": {
   "display_name": "Bash",
   "language": "bash",
   "name": "bash"
  },
  "language_info": {
   "codemirror_mode": "shell",
   "file_extension": ".sh",
   "mimetype": "text/x-sh",
   "name": "bash"
  },
  "toc": {
   "base_numbering": 1,
   "nav_menu": {},
   "number_sections": true,
   "sideBar": true,
   "skip_h1_title": false,
   "title_cell": "Table of Contents",
   "title_sidebar": "Contents",
   "toc_cell": false,
   "toc_position": {},
   "toc_section_display": true,
   "toc_window_display": false
  },
  "varInspector": {
   "cols": {
    "lenName": 16,
    "lenType": 16,
    "lenVar": 40
   },
   "kernels_config": {
    "python": {
     "delete_cmd_postfix": "",
     "delete_cmd_prefix": "del ",
     "library": "var_list.py",
     "varRefreshCmd": "print(var_dic_list())"
    },
    "r": {
     "delete_cmd_postfix": ") ",
     "delete_cmd_prefix": "rm(",
     "library": "var_list.r",
     "varRefreshCmd": "cat(var_dic_list()) "
    }
   },
   "types_to_exclude": [
    "module",
    "function",
    "builtin_function_or_method",
    "instance",
    "_Feature"
   ],
   "window_display": false
  }
 },
 "nbformat": 4,
 "nbformat_minor": 4
}
