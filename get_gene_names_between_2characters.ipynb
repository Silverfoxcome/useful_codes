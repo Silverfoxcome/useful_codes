{
 "cells": [
  {
   "cell_type": "markdown",
   "metadata": {},
   "source": [
    "# Pattern to get string between two specific words/characters"
   ]
  },
  {
   "cell_type": "code",
   "execution_count": 1,
   "metadata": {},
   "outputs": [
    {
     "name": "stdout",
     "output_type": "stream",
     "text": [
      "/media/koala/windiska/tesis/assembly_zmex/novoplasty_336/novoplasty4/mummer/annotation\n"
     ]
    }
   ],
   "source": [
    "pwd"
   ]
  },
  {
   "cell_type": "code",
   "execution_count": 3,
   "metadata": {},
   "outputs": [
    {
     "name": "stdout",
     "output_type": "stream",
     "text": [
      ">rps12_join{[69326:69439](-),[92925:93156](-),[92356:92384](-)}\n",
      ">psbA_[89:1150](-)\n",
      ">matK_[1670:3211](-)\n",
      ">rps16_join{[5558:5597](-),[4484:4701](-)}\n",
      ">psbK_[7195:7380](+)\n",
      ">psbI_[7776:7886](+)\n",
      ">psbD_[9084:10145](+)\n",
      ">psbZ_[12019:12207](+)\n",
      ">psbM_[18178:18282](+)\n",
      ">petN_[19085:19174](-)\n"
     ]
    }
   ],
   "source": [
    "grep \"^>\" cpgavas/b73ref/CDS.fasta | head"
   ]
  },
  {
   "cell_type": "markdown",
   "metadata": {},
   "source": [
    "I want to get only the gene names that are between `>` gene `_`"
   ]
  },
  {
   "cell_type": "markdown",
   "metadata": {},
   "source": [
    "sed -E to allow use of regular expressions and not having to scape special characters."
   ]
  },
  {
   "cell_type": "code",
   "execution_count": 5,
   "metadata": {},
   "outputs": [
    {
     "name": "stdout",
     "output_type": "stream",
     "text": [
      "rps12\n",
      "psbA\n",
      "matK\n",
      "rps16\n",
      "psbK\n",
      "psbI\n",
      "psbD\n",
      "psbZ\n",
      "psbM\n",
      "petN\n"
     ]
    }
   ],
   "source": [
    "grep \"^>\" cpgavas/b73ref/CDS.fasta | sed -E 's/^>(.*)_.*/\\1/' | head"
   ]
  },
  {
   "cell_type": "markdown",
   "metadata": {},
   "source": [
    "Without `-E` option in `sed`, I would had had to scape the 2 () of `(.*)`"
   ]
  },
  {
   "cell_type": "code",
   "execution_count": 6,
   "metadata": {},
   "outputs": [
    {
     "name": "stdout",
     "output_type": "stream",
     "text": [
      "rps12\n",
      "psbA\n",
      "matK\n",
      "rps16\n",
      "psbK\n",
      "psbI\n",
      "psbD\n",
      "psbZ\n",
      "psbM\n",
      "petN\n"
     ]
    }
   ],
   "source": [
    "grep \"^>\" cpgavas/b73ref/CDS.fasta | sed 's/^>\\(.*\\)_.*/\\1/' | head"
   ]
  },
  {
   "cell_type": "markdown",
   "metadata": {},
   "source": [
    "The principal regular expression is `^>\\(.*\\)_` but we add `.*` at the end to match the whole line.\n",
    "\n",
    "We are saying, get the string that match this expression `^>\\(.*\\)_` and whatever comes after that `.*`"
   ]
  },
  {
   "cell_type": "markdown",
   "metadata": {},
   "source": [
    "`.*` means, whatever thing `.` for any number of times `*`, to match the rest of the line .... that continues with something like `[12019:12207](+)`"
   ]
  },
  {
   "cell_type": "markdown",
   "metadata": {},
   "source": [
    "## Explanation"
   ]
  },
  {
   "cell_type": "code",
   "execution_count": 9,
   "metadata": {},
   "outputs": [
    {
     "name": "stdout",
     "output_type": "stream",
     "text": [
      " this is a file \n"
     ]
    }
   ],
   "source": [
    "echo \"Hello world xxx this is a file yyy\" | sed 's/.*xxx\\(.*\\)yyy/\\1/'"
   ]
  },
  {
   "cell_type": "markdown",
   "metadata": {},
   "source": [
    "So `.*xxx` will match from the beginning up to `xxx`. We can see this using `grep`:"
   ]
  },
  {
   "cell_type": "code",
   "execution_count": 8,
   "metadata": {},
   "outputs": [
    {
     "name": "stdout",
     "output_type": "stream",
     "text": [
      "\u001b[01;31m\u001b[KHello world xxx\u001b[m\u001b[K this is a file yyy\n"
     ]
    }
   ],
   "source": [
    "echo \"Hello world xxx this is a file yyy\" | grep '.*xxx'"
   ]
  },
  {
   "cell_type": "code",
   "execution_count": 10,
   "metadata": {},
   "outputs": [
    {
     "name": "stdout",
     "output_type": "stream",
     "text": [
      "\u001b[01;31m\u001b[KHello world xxx this is a file yyy\u001b[m\u001b[K\n"
     ]
    }
   ],
   "source": [
    "echo \"Hello world xxx this is a file yyy\" | grep '.*yyy'"
   ]
  },
  {
   "cell_type": "code",
   "execution_count": 11,
   "metadata": {},
   "outputs": [
    {
     "name": "stdout",
     "output_type": "stream",
     "text": [
      "\u001b[01;31m\u001b[KHello world xxx this is a file yyy\u001b[m\u001b[K\n"
     ]
    }
   ],
   "source": [
    "echo \"Hello world xxx this is a file yyy\" | egrep '.*xxx(.*).*yyy'"
   ]
  },
  {
   "cell_type": "markdown",
   "metadata": {},
   "source": [
    "`\\1` is a 'Remember pattern' that remembers everything that is within `\\(.*\\)` \n",
    "\n",
    "(or  between `(.*)` when using sed -E).\n",
    "\n",
    "So from `xxx` up to `yyy` but not `yyy`."
   ]
  },
  {
   "cell_type": "markdown",
   "metadata": {},
   "source": [
    "`\\1` will remember **whatever** was between those 2 patterns `xxx` and `yyy` \n",
    "\n",
    "whatever: `(.*)` or `\\(.*\\)`"
   ]
  },
  {
   "cell_type": "markdown",
   "metadata": {},
   "source": [
    "But not the 2 patterns."
   ]
  },
  {
   "cell_type": "code",
   "execution_count": 14,
   "metadata": {},
   "outputs": [
    {
     "name": "stdout",
     "output_type": "stream",
     "text": [
      ">rps12_join{[69326:69439](-),[92925:93156](-),[92356:92384](-)}\n",
      ">psbA_[89:1150](-)\n",
      ">matK_[1670:3211](-)\n",
      ">rps16_join{[5558:5597](-),[4484:4701](-)}\n",
      ">psbK_[7195:7380](+)\n",
      ">psbI_[7776:7886](+)\n",
      ">psbD_[9084:10145](+)\n",
      ">psbZ_[12019:12207](+)\n",
      ">psbM_[18178:18282](+)\n",
      ">petN_[19085:19174](-)\n"
     ]
    }
   ],
   "source": [
    "grep \"^>\" cpgavas/b73ref/CDS.fasta | head"
   ]
  },
  {
   "cell_type": "code",
   "execution_count": 13,
   "metadata": {},
   "outputs": [
    {
     "name": "stdout",
     "output_type": "stream",
     "text": [
      "rps12\n",
      "psbA\n",
      "matK\n",
      "rps16\n",
      "psbK\n",
      "psbI\n",
      "psbD\n",
      "psbZ\n",
      "psbM\n",
      "petN\n"
     ]
    }
   ],
   "source": [
    "grep \"^>\" cpgavas/b73ref/CDS.fasta | sed -E 's/^>(.*)_.*/\\1/' | head"
   ]
  },
  {
   "cell_type": "markdown",
   "metadata": {},
   "source": [
    "So, in this case, we get was was between the patterns `>` and `_`: the name of the gene.\n",
    "\n",
    "Without including  `>` and `_`."
   ]
  },
  {
   "cell_type": "code",
   "execution_count": null,
   "metadata": {},
   "outputs": [],
   "source": [
    "grep \"^>\" cpgavas/b73ref/CDS.fasta | sed -E 's/^>(.*)_.*/\\1/' > cpgavas/b73ref/zmex_cpgavas_83_cds_names.txt"
   ]
  },
  {
   "cell_type": "code",
   "execution_count": 15,
   "metadata": {},
   "outputs": [
    {
     "name": "stdout",
     "output_type": "stream",
     "text": [
      "rps12\n",
      "psbA\n",
      "matK\n",
      "rps16\n",
      "psbK\n",
      "psbI\n",
      "psbD\n",
      "psbZ\n",
      "psbM\n",
      "petN\n"
     ]
    }
   ],
   "source": [
    "head cpgavas/b73ref/zmex_cpgavas_83_cds_names.txt"
   ]
  },
  {
   "cell_type": "markdown",
   "metadata": {},
   "source": [
    "## Links"
   ]
  },
  {
   "cell_type": "markdown",
   "metadata": {},
   "source": [
    "* [How do I display all the characters between two specific strings?](https://unix.stackexchange.com/questions/273496/how-do-i-display-all-the-characters-between-two-specific-strings)"
   ]
  }
 ],
 "metadata": {
  "kernelspec": {
   "display_name": "Bash",
   "language": "bash",
   "name": "bash"
  },
  "language_info": {
   "codemirror_mode": "shell",
   "file_extension": ".sh",
   "mimetype": "text/x-sh",
   "name": "bash"
  },
  "toc": {
   "base_numbering": 1,
   "nav_menu": {},
   "number_sections": true,
   "sideBar": true,
   "skip_h1_title": false,
   "title_cell": "Table of Contents",
   "title_sidebar": "Contents",
   "toc_cell": false,
   "toc_position": {},
   "toc_section_display": true,
   "toc_window_display": false
  },
  "varInspector": {
   "cols": {
    "lenName": 16,
    "lenType": 16,
    "lenVar": 40
   },
   "kernels_config": {
    "python": {
     "delete_cmd_postfix": "",
     "delete_cmd_prefix": "del ",
     "library": "var_list.py",
     "varRefreshCmd": "print(var_dic_list())"
    },
    "r": {
     "delete_cmd_postfix": ") ",
     "delete_cmd_prefix": "rm(",
     "library": "var_list.r",
     "varRefreshCmd": "cat(var_dic_list()) "
    }
   },
   "types_to_exclude": [
    "module",
    "function",
    "builtin_function_or_method",
    "instance",
    "_Feature"
   ],
   "window_display": false
  }
 },
 "nbformat": 4,
 "nbformat_minor": 4
}
