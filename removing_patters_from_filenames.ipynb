{
 "cells": [
  {
   "cell_type": "code",
   "execution_count": 1,
   "metadata": {},
   "outputs": [
    {
     "name": "stdout",
     "output_type": "stream",
     "text": [
      "/media/koala/windiska/tesis/assembly_zmex/novoplasty_336/novoplasty4/mummer/annotation\n"
     ]
    }
   ],
   "source": [
    "pwd"
   ]
  },
  {
   "cell_type": "code",
   "execution_count": 2,
   "metadata": {},
   "outputs": [
    {
     "name": "stdout",
     "output_type": "stream",
     "text": [
      "\u001b[0m\u001b[01;32m161941507830025_abcde.gff\u001b[0m\n",
      "\u001b[01;32m161941507830025_addInputProjectid.gff\u001b[0m\n",
      "\u001b[01;32m161941507830025_anno3.gff\u001b[0m\n",
      "\u001b[01;32m161941507830025.annotation_with_problems.txt\u001b[0m\n",
      "\u001b[01;32m161941507830025_aragorn.txt\u001b[0m\n",
      "\u001b[01;32m161941507830025_c_cc.txt\u001b[0m\n",
      "\u001b[01;32m161941507830025.CDS.fasta\u001b[0m\n",
      "\u001b[01;32m161941507830025_CDSForCusp.fasta\u001b[0m\n",
      "\u001b[01;32m161941507830025.CDSForTranslate.fasta\u001b[0m\n",
      "\u001b[01;32m161941507830025_c_ir.txt\u001b[0m\n",
      "\u001b[01;32m161941507830025_c_misa.txt\u001b[0m\n",
      "\u001b[01;32m161941507830025_control.txt\u001b[0m\n",
      "\u001b[01;32m161941507830025_c_trf.txt\u001b[0m\n",
      "\u001b[01;32m161941507830025_cusp.txt\u001b[0m\n",
      "\u001b[01;32m161941507830025_c_vmatchd.txt\u001b[0m\n",
      "\u001b[01;32m161941507830025_c_vmatchp.txt\u001b[0m\n",
      "\u001b[01;32m161941507830025.fas.2.7.7.80.10.50.500.1.html\u001b[0m\n",
      "\u001b[01;32m161941507830025.fas.2.7.7.80.10.50.500.1.txt.html\u001b[0m\n",
      "\u001b[01;32m161941507830025.fas.2.7.7.80.10.50.500.dat\u001b[0m\n",
      "\u001b[01;32m161941507830025.fas.2.7.7.80.10.50.500.dat.afterfiltering\u001b[0m\n",
      "\u001b[01;32m161941507830025.fas.2.7.7.80.10.50.500.mask\u001b[0m\n",
      "\u001b[01;32m161941507830025.fas.misa\u001b[0m\n",
      "\u001b[01;32m161941507830025.Five-column.tbl\u001b[0m\n",
      "\u001b[01;32m161941507830025.Gene.fasta\u001b[0m\n",
      "\u001b[01;32m161941507830025_image1.jpg\u001b[0m\n",
      "\u001b[01;32m161941507830025_image2.png\u001b[0m\n",
      "\u001b[01;32m161941507830025_image3.png\u001b[0m\n",
      "\u001b[01;32m161941507830025_image4.png\u001b[0m\n",
      "\u001b[01;32m161941507830025_image5.png\u001b[0m\n",
      "\u001b[01;32m161941507830025_ir.txt\u001b[0m\n",
      "\u001b[01;32m161941507830025.maker.fasta\u001b[0m\n",
      "\u001b[01;32m161941507830025.maker.gbf\u001b[0m\n",
      "\u001b[01;32m161941507830025.maker.sqn\u001b[0m\n",
      "\u001b[01;32m161941507830025.maker.val\u001b[0m\n",
      "\u001b[01;32m161941507830025.misa.ini\u001b[0m\n",
      "\u001b[01;32m161941507830025.misa.ini.statistics\u001b[0m\n",
      "\u001b[01;32m161941507830025.mRNA.fasta\u001b[0m\n",
      "\u001b[01;32m161941507830025_noseq.gff\u001b[0m\n",
      "\u001b[01;32m161941507830025_prefilter.fas\u001b[0m\n",
      "\u001b[01;32m161941507830025.Protein.fasta\u001b[0m\n",
      "\u001b[01;32m161941507830025_reportTable.txt\u001b[0m\n",
      "\u001b[01;32m161941507830025.rRNA.fasta\u001b[0m\n",
      "\u001b[01;32m161941507830025.transeq.fasta\u001b[0m\n",
      "\u001b[40;31;01m161941507830025.trf.afterfiltering.txt\u001b[0m\n",
      "\u001b[40;31;01m161941507830025.trf.txt\u001b[0m\n",
      "\u001b[01;32m161941507830025.tRNA.fasta\u001b[0m\n",
      "\u001b[01;32m161941507830025.tRNA.fasta.B.tRNAdb2009.O\u001b[0m\n",
      "\u001b[01;32m161941507830025_vmatch.txt\u001b[0m\n",
      "\u001b[01;32mfile.conf\u001b[0m\n",
      "\u001b[01;32mfile.fas\u001b[0m\n",
      "\u001b[01;32mfile.fasta\u001b[0m\n",
      "\u001b[01;32mfile.gbf\u001b[0m\n",
      "\u001b[01;32mfile.gff\u001b[0m\n",
      "\u001b[01;32mfile.htm\u001b[0m\n",
      "\u001b[01;32mref.gbf\u001b[0m\n",
      "\u001b[01;32mzmex_cpgavas_83_cds_names_sorted.txt\u001b[0m\n",
      "\u001b[01;32mzmex_cpgavas_83_cds_names.txt\u001b[0m\n"
     ]
    }
   ],
   "source": [
    "ls cpgavas/b73ref/"
   ]
  },
  {
   "cell_type": "code",
   "execution_count": 4,
   "metadata": {},
   "outputs": [
    {
     "name": "stdout",
     "output_type": "stream",
     "text": [
      "\u001b[01;31m\u001b[K161941507830025_\u001b[m\u001b[Kabcde.gff\n",
      "\u001b[01;31m\u001b[K161941507830025_\u001b[m\u001b[KaddInputProjectid.gff\n",
      "\u001b[01;31m\u001b[K161941507830025_\u001b[m\u001b[Kanno3.gff\n",
      "\u001b[01;31m\u001b[K161941507830025_\u001b[m\u001b[Karagorn.txt\n",
      "\u001b[01;31m\u001b[K161941507830025_\u001b[m\u001b[Kc_cc.txt\n",
      "\u001b[01;31m\u001b[K161941507830025_\u001b[m\u001b[KCDSForCusp.fasta\n",
      "\u001b[01;31m\u001b[K161941507830025_\u001b[m\u001b[Kc_ir.txt\n",
      "\u001b[01;31m\u001b[K161941507830025_\u001b[m\u001b[Kc_misa.txt\n",
      "\u001b[01;31m\u001b[K161941507830025_\u001b[m\u001b[Kcontrol.txt\n",
      "\u001b[01;31m\u001b[K161941507830025_\u001b[m\u001b[Kc_trf.txt\n",
      "\u001b[01;31m\u001b[K161941507830025_\u001b[m\u001b[Kcusp.txt\n",
      "\u001b[01;31m\u001b[K161941507830025_\u001b[m\u001b[Kc_vmatchd.txt\n",
      "\u001b[01;31m\u001b[K161941507830025_\u001b[m\u001b[Kc_vmatchp.txt\n",
      "\u001b[01;31m\u001b[K161941507830025_\u001b[m\u001b[Kimage1.jpg\n",
      "\u001b[01;31m\u001b[K161941507830025_\u001b[m\u001b[Kimage2.png\n",
      "\u001b[01;31m\u001b[K161941507830025_\u001b[m\u001b[Kimage3.png\n",
      "\u001b[01;31m\u001b[K161941507830025_\u001b[m\u001b[Kimage4.png\n",
      "\u001b[01;31m\u001b[K161941507830025_\u001b[m\u001b[Kimage5.png\n",
      "\u001b[01;31m\u001b[K161941507830025_\u001b[m\u001b[Kir.txt\n",
      "\u001b[01;31m\u001b[K161941507830025_\u001b[m\u001b[Knoseq.gff\n",
      "\u001b[01;31m\u001b[K161941507830025_\u001b[m\u001b[Kprefilter.fas\n",
      "\u001b[01;31m\u001b[K161941507830025_\u001b[m\u001b[KreportTable.txt\n",
      "\u001b[01;31m\u001b[K161941507830025_\u001b[m\u001b[Kvmatch.txt\n"
     ]
    }
   ],
   "source": [
    "ls cpgavas/b73ref/ | egrep '^[0-9]*_'"
   ]
  },
  {
   "cell_type": "code",
   "execution_count": 5,
   "metadata": {
    "scrolled": false
   },
   "outputs": [
    {
     "name": "stdout",
     "output_type": "stream",
     "text": [
      "\u001b[01;31m\u001b[K161941507830025.\u001b[m\u001b[Kannotation_with_problems.txt\n",
      "\u001b[01;31m\u001b[K161941507830025.\u001b[m\u001b[KCDS.fasta\n",
      "\u001b[01;31m\u001b[K161941507830025.\u001b[m\u001b[KCDSForTranslate.fasta\n",
      "\u001b[01;31m\u001b[K161941507830025.\u001b[m\u001b[Kfas.2.7.7.80.10.50.500.1.html\n",
      "\u001b[01;31m\u001b[K161941507830025.\u001b[m\u001b[Kfas.2.7.7.80.10.50.500.1.txt.html\n",
      "\u001b[01;31m\u001b[K161941507830025.\u001b[m\u001b[Kfas.2.7.7.80.10.50.500.dat\n",
      "\u001b[01;31m\u001b[K161941507830025.\u001b[m\u001b[Kfas.2.7.7.80.10.50.500.dat.afterfiltering\n",
      "\u001b[01;31m\u001b[K161941507830025.\u001b[m\u001b[Kfas.2.7.7.80.10.50.500.mask\n",
      "\u001b[01;31m\u001b[K161941507830025.\u001b[m\u001b[Kfas.misa\n",
      "\u001b[01;31m\u001b[K161941507830025.\u001b[m\u001b[KFive-column.tbl\n",
      "\u001b[01;31m\u001b[K161941507830025.\u001b[m\u001b[KGene.fasta\n",
      "\u001b[01;31m\u001b[K161941507830025.\u001b[m\u001b[Kmaker.fasta\n",
      "\u001b[01;31m\u001b[K161941507830025.\u001b[m\u001b[Kmaker.gbf\n",
      "\u001b[01;31m\u001b[K161941507830025.\u001b[m\u001b[Kmaker.sqn\n",
      "\u001b[01;31m\u001b[K161941507830025.\u001b[m\u001b[Kmaker.val\n",
      "\u001b[01;31m\u001b[K161941507830025.\u001b[m\u001b[Kmisa.ini\n",
      "\u001b[01;31m\u001b[K161941507830025.\u001b[m\u001b[Kmisa.ini.statistics\n",
      "\u001b[01;31m\u001b[K161941507830025.\u001b[m\u001b[KmRNA.fasta\n",
      "\u001b[01;31m\u001b[K161941507830025.\u001b[m\u001b[KProtein.fasta\n",
      "\u001b[01;31m\u001b[K161941507830025.\u001b[m\u001b[KrRNA.fasta\n",
      "\u001b[01;31m\u001b[K161941507830025.\u001b[m\u001b[Ktranseq.fasta\n",
      "\u001b[01;31m\u001b[K161941507830025.\u001b[m\u001b[Ktrf.afterfiltering.txt\n",
      "\u001b[01;31m\u001b[K161941507830025.\u001b[m\u001b[Ktrf.txt\n",
      "\u001b[01;31m\u001b[K161941507830025.\u001b[m\u001b[KtRNA.fasta\n",
      "\u001b[01;31m\u001b[K161941507830025.\u001b[m\u001b[KtRNA.fasta.B.tRNAdb2009.O\n"
     ]
    }
   ],
   "source": [
    "ls cpgavas/b73ref/ | egrep '^[0-9]*\\.'"
   ]
  },
  {
   "cell_type": "markdown",
   "metadata": {},
   "source": [
    "I want to remove the pattern `161941507830025_` and `161941507830025.` from the beginning of the filenames."
   ]
  },
  {
   "cell_type": "markdown",
   "metadata": {},
   "source": [
    "A regular expression for taking into account both `_` and `.`"
   ]
  },
  {
   "cell_type": "markdown",
   "metadata": {},
   "source": [
    "`^[0-9]*[_.]`"
   ]
  },
  {
   "cell_type": "code",
   "execution_count": 6,
   "metadata": {},
   "outputs": [
    {
     "name": "stdout",
     "output_type": "stream",
     "text": [
      "\u001b[01;31m\u001b[K161941507830025_\u001b[m\u001b[Kabcde.gff\n",
      "\u001b[01;31m\u001b[K161941507830025_\u001b[m\u001b[KaddInputProjectid.gff\n",
      "\u001b[01;31m\u001b[K161941507830025_\u001b[m\u001b[Kanno3.gff\n",
      "\u001b[01;31m\u001b[K161941507830025.\u001b[m\u001b[Kannotation_with_problems.txt\n",
      "\u001b[01;31m\u001b[K161941507830025_\u001b[m\u001b[Karagorn.txt\n",
      "\u001b[01;31m\u001b[K161941507830025_\u001b[m\u001b[Kc_cc.txt\n",
      "\u001b[01;31m\u001b[K161941507830025.\u001b[m\u001b[KCDS.fasta\n",
      "\u001b[01;31m\u001b[K161941507830025_\u001b[m\u001b[KCDSForCusp.fasta\n",
      "\u001b[01;31m\u001b[K161941507830025.\u001b[m\u001b[KCDSForTranslate.fasta\n",
      "\u001b[01;31m\u001b[K161941507830025_\u001b[m\u001b[Kc_ir.txt\n",
      "\u001b[01;31m\u001b[K161941507830025_\u001b[m\u001b[Kc_misa.txt\n",
      "\u001b[01;31m\u001b[K161941507830025_\u001b[m\u001b[Kcontrol.txt\n",
      "\u001b[01;31m\u001b[K161941507830025_\u001b[m\u001b[Kc_trf.txt\n",
      "\u001b[01;31m\u001b[K161941507830025_\u001b[m\u001b[Kcusp.txt\n",
      "\u001b[01;31m\u001b[K161941507830025_\u001b[m\u001b[Kc_vmatchd.txt\n",
      "\u001b[01;31m\u001b[K161941507830025_\u001b[m\u001b[Kc_vmatchp.txt\n",
      "\u001b[01;31m\u001b[K161941507830025.\u001b[m\u001b[Kfas.2.7.7.80.10.50.500.1.html\n",
      "\u001b[01;31m\u001b[K161941507830025.\u001b[m\u001b[Kfas.2.7.7.80.10.50.500.1.txt.html\n",
      "\u001b[01;31m\u001b[K161941507830025.\u001b[m\u001b[Kfas.2.7.7.80.10.50.500.dat\n",
      "\u001b[01;31m\u001b[K161941507830025.\u001b[m\u001b[Kfas.2.7.7.80.10.50.500.dat.afterfiltering\n",
      "\u001b[01;31m\u001b[K161941507830025.\u001b[m\u001b[Kfas.2.7.7.80.10.50.500.mask\n",
      "\u001b[01;31m\u001b[K161941507830025.\u001b[m\u001b[Kfas.misa\n",
      "\u001b[01;31m\u001b[K161941507830025.\u001b[m\u001b[KFive-column.tbl\n",
      "\u001b[01;31m\u001b[K161941507830025.\u001b[m\u001b[KGene.fasta\n",
      "\u001b[01;31m\u001b[K161941507830025_\u001b[m\u001b[Kimage1.jpg\n",
      "\u001b[01;31m\u001b[K161941507830025_\u001b[m\u001b[Kimage2.png\n",
      "\u001b[01;31m\u001b[K161941507830025_\u001b[m\u001b[Kimage3.png\n",
      "\u001b[01;31m\u001b[K161941507830025_\u001b[m\u001b[Kimage4.png\n",
      "\u001b[01;31m\u001b[K161941507830025_\u001b[m\u001b[Kimage5.png\n",
      "\u001b[01;31m\u001b[K161941507830025_\u001b[m\u001b[Kir.txt\n",
      "\u001b[01;31m\u001b[K161941507830025.\u001b[m\u001b[Kmaker.fasta\n",
      "\u001b[01;31m\u001b[K161941507830025.\u001b[m\u001b[Kmaker.gbf\n",
      "\u001b[01;31m\u001b[K161941507830025.\u001b[m\u001b[Kmaker.sqn\n",
      "\u001b[01;31m\u001b[K161941507830025.\u001b[m\u001b[Kmaker.val\n",
      "\u001b[01;31m\u001b[K161941507830025.\u001b[m\u001b[Kmisa.ini\n",
      "\u001b[01;31m\u001b[K161941507830025.\u001b[m\u001b[Kmisa.ini.statistics\n",
      "\u001b[01;31m\u001b[K161941507830025.\u001b[m\u001b[KmRNA.fasta\n",
      "\u001b[01;31m\u001b[K161941507830025_\u001b[m\u001b[Knoseq.gff\n",
      "\u001b[01;31m\u001b[K161941507830025_\u001b[m\u001b[Kprefilter.fas\n",
      "\u001b[01;31m\u001b[K161941507830025.\u001b[m\u001b[KProtein.fasta\n",
      "\u001b[01;31m\u001b[K161941507830025_\u001b[m\u001b[KreportTable.txt\n",
      "\u001b[01;31m\u001b[K161941507830025.\u001b[m\u001b[KrRNA.fasta\n",
      "\u001b[01;31m\u001b[K161941507830025.\u001b[m\u001b[Ktranseq.fasta\n",
      "\u001b[01;31m\u001b[K161941507830025.\u001b[m\u001b[Ktrf.afterfiltering.txt\n",
      "\u001b[01;31m\u001b[K161941507830025.\u001b[m\u001b[Ktrf.txt\n",
      "\u001b[01;31m\u001b[K161941507830025.\u001b[m\u001b[KtRNA.fasta\n",
      "\u001b[01;31m\u001b[K161941507830025.\u001b[m\u001b[KtRNA.fasta.B.tRNAdb2009.O\n",
      "\u001b[01;31m\u001b[K161941507830025_\u001b[m\u001b[Kvmatch.txt\n"
     ]
    }
   ],
   "source": [
    "ls cpgavas/b73ref/ | egrep '^[0-9]*[_.]'"
   ]
  },
  {
   "cell_type": "code",
   "execution_count": 10,
   "metadata": {},
   "outputs": [
    {
     "name": "stdout",
     "output_type": "stream",
     "text": [
      "\u001b[0m\u001b[01;32mcpgavas/b73ref/161941507830025_abcde.gff\u001b[0m\n",
      "\u001b[01;32mcpgavas/b73ref/161941507830025_addInputProjectid.gff\u001b[0m\n",
      "\u001b[01;32mcpgavas/b73ref/161941507830025_anno3.gff\u001b[0m\n",
      "\u001b[01;32mcpgavas/b73ref/161941507830025.annotation_with_problems.txt\u001b[0m\n",
      "\u001b[01;32mcpgavas/b73ref/161941507830025_aragorn.txt\u001b[0m\n",
      "\u001b[01;32mcpgavas/b73ref/161941507830025_c_cc.txt\u001b[0m\n",
      "\u001b[01;32mcpgavas/b73ref/161941507830025.CDS.fasta\u001b[0m\n",
      "\u001b[01;32mcpgavas/b73ref/161941507830025_CDSForCusp.fasta\u001b[0m\n",
      "\u001b[01;32mcpgavas/b73ref/161941507830025.CDSForTranslate.fasta\u001b[0m\n",
      "\u001b[01;32mcpgavas/b73ref/161941507830025_c_ir.txt\u001b[0m\n",
      "\u001b[01;32mcpgavas/b73ref/161941507830025_c_misa.txt\u001b[0m\n",
      "\u001b[01;32mcpgavas/b73ref/161941507830025_control.txt\u001b[0m\n",
      "\u001b[01;32mcpgavas/b73ref/161941507830025_c_trf.txt\u001b[0m\n",
      "\u001b[01;32mcpgavas/b73ref/161941507830025_cusp.txt\u001b[0m\n",
      "\u001b[01;32mcpgavas/b73ref/161941507830025_c_vmatchd.txt\u001b[0m\n",
      "\u001b[01;32mcpgavas/b73ref/161941507830025_c_vmatchp.txt\u001b[0m\n",
      "\u001b[01;32mcpgavas/b73ref/161941507830025.fas.2.7.7.80.10.50.500.1.html\u001b[0m\n",
      "\u001b[01;32mcpgavas/b73ref/161941507830025.fas.2.7.7.80.10.50.500.1.txt.html\u001b[0m\n",
      "\u001b[01;32mcpgavas/b73ref/161941507830025.fas.2.7.7.80.10.50.500.dat\u001b[0m\n",
      "\u001b[01;32mcpgavas/b73ref/161941507830025.fas.2.7.7.80.10.50.500.dat.afterfiltering\u001b[0m\n",
      "\u001b[01;32mcpgavas/b73ref/161941507830025.fas.2.7.7.80.10.50.500.mask\u001b[0m\n",
      "\u001b[01;32mcpgavas/b73ref/161941507830025.fas.misa\u001b[0m\n",
      "\u001b[01;32mcpgavas/b73ref/161941507830025.Five-column.tbl\u001b[0m\n",
      "\u001b[01;32mcpgavas/b73ref/161941507830025.Gene.fasta\u001b[0m\n",
      "\u001b[01;32mcpgavas/b73ref/161941507830025_image1.jpg\u001b[0m\n",
      "\u001b[01;32mcpgavas/b73ref/161941507830025_image2.png\u001b[0m\n",
      "\u001b[01;32mcpgavas/b73ref/161941507830025_image3.png\u001b[0m\n",
      "\u001b[01;32mcpgavas/b73ref/161941507830025_image4.png\u001b[0m\n",
      "\u001b[01;32mcpgavas/b73ref/161941507830025_image5.png\u001b[0m\n",
      "\u001b[01;32mcpgavas/b73ref/161941507830025_ir.txt\u001b[0m\n",
      "\u001b[01;32mcpgavas/b73ref/161941507830025.maker.fasta\u001b[0m\n",
      "\u001b[01;32mcpgavas/b73ref/161941507830025.maker.gbf\u001b[0m\n",
      "\u001b[01;32mcpgavas/b73ref/161941507830025.maker.sqn\u001b[0m\n",
      "\u001b[01;32mcpgavas/b73ref/161941507830025.maker.val\u001b[0m\n",
      "\u001b[01;32mcpgavas/b73ref/161941507830025.misa.ini\u001b[0m\n",
      "\u001b[01;32mcpgavas/b73ref/161941507830025.misa.ini.statistics\u001b[0m\n",
      "\u001b[01;32mcpgavas/b73ref/161941507830025.mRNA.fasta\u001b[0m\n",
      "\u001b[01;32mcpgavas/b73ref/161941507830025_noseq.gff\u001b[0m\n",
      "\u001b[01;32mcpgavas/b73ref/161941507830025_prefilter.fas\u001b[0m\n",
      "\u001b[01;32mcpgavas/b73ref/161941507830025.Protein.fasta\u001b[0m\n",
      "\u001b[01;32mcpgavas/b73ref/161941507830025_reportTable.txt\u001b[0m\n",
      "\u001b[01;32mcpgavas/b73ref/161941507830025.rRNA.fasta\u001b[0m\n",
      "\u001b[01;32mcpgavas/b73ref/161941507830025.transeq.fasta\u001b[0m\n",
      "\u001b[40;31;01mcpgavas/b73ref/161941507830025.trf.afterfiltering.txt\u001b[0m\n",
      "\u001b[40;31;01mcpgavas/b73ref/161941507830025.trf.txt\u001b[0m\n",
      "\u001b[01;32mcpgavas/b73ref/161941507830025.tRNA.fasta\u001b[0m\n",
      "\u001b[01;32mcpgavas/b73ref/161941507830025.tRNA.fasta.B.tRNAdb2009.O\u001b[0m\n",
      "\u001b[01;32mcpgavas/b73ref/161941507830025_vmatch.txt\u001b[0m\n"
     ]
    }
   ],
   "source": [
    "ls cpgavas/b73ref/161941507830025[_.]*"
   ]
  },
  {
   "cell_type": "markdown",
   "metadata": {},
   "source": [
    "## one way"
   ]
  },
  {
   "cell_type": "code",
   "execution_count": 7,
   "metadata": {},
   "outputs": [],
   "source": [
    "file=\"mywork_myfile_XSOP.txt\""
   ]
  },
  {
   "cell_type": "markdown",
   "metadata": {},
   "source": [
    "In the `file`, replace the pattern `myfile` for nothing"
   ]
  },
  {
   "cell_type": "code",
   "execution_count": 8,
   "metadata": {},
   "outputs": [
    {
     "name": "stdout",
     "output_type": "stream",
     "text": [
      "mywork_XSOP.txt\n"
     ]
    }
   ],
   "source": [
    "echo ${file/_myfile/}"
   ]
  },
  {
   "cell_type": "code",
   "execution_count": null,
   "metadata": {},
   "outputs": [],
   "source": [
    "for file in mywork_myfile*txt\n",
    "do\n",
    "   mv \"$file\" \"${file/_myfile/}\"\n",
    "done"
   ]
  },
  {
   "cell_type": "markdown",
   "metadata": {},
   "source": [
    "In my files, change the pattern `161941507830025[_.]` for nothing."
   ]
  },
  {
   "cell_type": "code",
   "execution_count": 13,
   "metadata": {},
   "outputs": [],
   "source": [
    "for file in cpgavas/b73ref/161941507830025[_.]*\n",
    "do\n",
    "   mv \"${file}\" \"${file/161941507830025[_.]/}\"\n",
    "done"
   ]
  },
  {
   "cell_type": "code",
   "execution_count": 14,
   "metadata": {},
   "outputs": [
    {
     "name": "stdout",
     "output_type": "stream",
     "text": [
      "\u001b[0m\u001b[01;32mabcde.gff\u001b[0m                                  \u001b[01;32mGene.fasta\u001b[0m\n",
      "\u001b[01;32maddInputProjectid.gff\u001b[0m                      \u001b[01;32mimage1.jpg\u001b[0m\n",
      "\u001b[01;32manno3.gff\u001b[0m                                  \u001b[01;32mimage2.png\u001b[0m\n",
      "\u001b[01;32mannotation_with_problems.txt\u001b[0m               \u001b[01;32mimage3.png\u001b[0m\n",
      "\u001b[01;32maragorn.txt\u001b[0m                                \u001b[01;32mimage4.png\u001b[0m\n",
      "\u001b[01;32mc_cc.txt\u001b[0m                                   \u001b[01;32mimage5.png\u001b[0m\n",
      "\u001b[01;32mCDS.fasta\u001b[0m                                  \u001b[01;32mir.txt\u001b[0m\n",
      "\u001b[01;32mCDSForCusp.fasta\u001b[0m                           \u001b[01;32mmaker.fasta\u001b[0m\n",
      "\u001b[01;32mCDSForTranslate.fasta\u001b[0m                      \u001b[01;32mmaker.gbf\u001b[0m\n",
      "\u001b[01;32mc_ir.txt\u001b[0m                                   \u001b[01;32mmaker.sqn\u001b[0m\n",
      "\u001b[01;32mc_misa.txt\u001b[0m                                 \u001b[01;32mmaker.val\u001b[0m\n",
      "\u001b[01;32mcontrol.txt\u001b[0m                                \u001b[01;32mmisa.ini\u001b[0m\n",
      "\u001b[01;32mc_trf.txt\u001b[0m                                  \u001b[01;32mmisa.ini.statistics\u001b[0m\n",
      "\u001b[01;32mcusp.txt\u001b[0m                                   \u001b[01;32mmRNA.fasta\u001b[0m\n",
      "\u001b[01;32mc_vmatchd.txt\u001b[0m                              \u001b[01;32mnoseq.gff\u001b[0m\n",
      "\u001b[01;32mc_vmatchp.txt\u001b[0m                              \u001b[01;32mprefilter.fas\u001b[0m\n",
      "\u001b[01;32mfas.2.7.7.80.10.50.500.1.html\u001b[0m              \u001b[01;32mProtein.fasta\u001b[0m\n",
      "\u001b[01;32mfas.2.7.7.80.10.50.500.1.txt.html\u001b[0m          \u001b[01;32mref.gbf\u001b[0m\n",
      "\u001b[01;32mfas.2.7.7.80.10.50.500.dat\u001b[0m                 \u001b[01;32mreportTable.txt\u001b[0m\n",
      "\u001b[01;32mfas.2.7.7.80.10.50.500.dat.afterfiltering\u001b[0m  \u001b[01;32mrRNA.fasta\u001b[0m\n",
      "\u001b[01;32mfas.2.7.7.80.10.50.500.mask\u001b[0m                \u001b[01;32mtranseq.fasta\u001b[0m\n",
      "\u001b[01;32mfas.misa\u001b[0m                                   \u001b[40;31;01mtrf.afterfiltering.txt\u001b[0m\n",
      "\u001b[01;32mfile.conf\u001b[0m                                  \u001b[40;31;01mtrf.txt\u001b[0m\n",
      "\u001b[01;32mfile.fas\u001b[0m                                   \u001b[01;32mtRNA.fasta\u001b[0m\n",
      "\u001b[01;32mfile.fasta\u001b[0m                                 \u001b[01;32mtRNA.fasta.B.tRNAdb2009.O\u001b[0m\n",
      "\u001b[01;32mfile.gbf\u001b[0m                                   \u001b[01;32mvmatch.txt\u001b[0m\n",
      "\u001b[01;32mfile.gff\u001b[0m                                   \u001b[01;32mzmex_cpgavas_83_cds_names_sorted.txt\u001b[0m\n",
      "\u001b[01;32mfile.htm\u001b[0m                                   \u001b[01;32mzmex_cpgavas_83_cds_names.txt\u001b[0m\n",
      "\u001b[01;32mFive-column.tbl\u001b[0m\n"
     ]
    }
   ],
   "source": [
    "ls cpgavas/b73ref/"
   ]
  },
  {
   "cell_type": "code",
   "execution_count": 15,
   "metadata": {},
   "outputs": [
    {
     "name": "stdout",
     "output_type": "stream",
     "text": [
      "\u001b[0m\u001b[01;32m161941447180777_abcde.gff\u001b[0m\n",
      "\u001b[01;32m161941447180777_addInputProjectid.gff\u001b[0m\n",
      "\u001b[01;32m161941447180777_anno3.gff\u001b[0m\n",
      "\u001b[01;32m161941447180777.annotation_with_problems.txt\u001b[0m\n",
      "\u001b[01;32m161941447180777_aragorn.txt\u001b[0m\n",
      "\u001b[01;32m161941447180777_c_cc.txt\u001b[0m\n",
      "\u001b[01;32m161941447180777.CDS.fasta\u001b[0m\n",
      "\u001b[01;32m161941447180777_CDSForCusp.fasta\u001b[0m\n",
      "\u001b[01;32m161941447180777.CDSForTranslate.fasta\u001b[0m\n",
      "\u001b[01;32m161941447180777_c_ir.txt\u001b[0m\n",
      "\u001b[01;32m161941447180777_c_misa.txt\u001b[0m\n",
      "\u001b[01;32m161941447180777.conf\u001b[0m\n",
      "\u001b[01;32m161941447180777_control.txt\u001b[0m\n",
      "\u001b[01;32m161941447180777_c_trf.txt\u001b[0m\n",
      "\u001b[01;32m161941447180777_cusp.txt\u001b[0m\n",
      "\u001b[01;32m161941447180777_c_vmatchd.txt\u001b[0m\n",
      "\u001b[01;32m161941447180777_c_vmatchp.txt\u001b[0m\n",
      "\u001b[01;32m161941447180777.fas\u001b[0m\n",
      "\u001b[01;32m161941447180777.fas.2.7.7.80.10.50.500.1.html\u001b[0m\n",
      "\u001b[01;32m161941447180777.fas.2.7.7.80.10.50.500.1.txt.html\u001b[0m\n",
      "\u001b[01;32m161941447180777.fas.2.7.7.80.10.50.500.dat\u001b[0m\n",
      "\u001b[01;32m161941447180777.fas.2.7.7.80.10.50.500.dat.afterfiltering\u001b[0m\n",
      "\u001b[01;32m161941447180777.fas.2.7.7.80.10.50.500.mask\u001b[0m\n",
      "\u001b[01;32m161941447180777.fas.misa\u001b[0m\n",
      "\u001b[01;32m161941447180777.fasta\u001b[0m\n",
      "\u001b[01;32m161941447180777.Five-column.tbl\u001b[0m\n",
      "\u001b[01;32m161941447180777.gbf\u001b[0m\n",
      "\u001b[01;32m161941447180777.Gene.fasta\u001b[0m\n",
      "\u001b[01;32m161941447180777.gff\u001b[0m\n",
      "\u001b[01;32m161941447180777.htm\u001b[0m\n",
      "\u001b[01;32m161941447180777_image1.jpg\u001b[0m\n",
      "\u001b[01;32m161941447180777_image2.png\u001b[0m\n",
      "\u001b[01;32m161941447180777_image3.png\u001b[0m\n",
      "\u001b[01;32m161941447180777_image4.png\u001b[0m\n",
      "\u001b[01;32m161941447180777_image5.png\u001b[0m\n",
      "\u001b[01;32m161941447180777_ir.txt\u001b[0m\n",
      "\u001b[01;32m161941447180777.maker.fasta\u001b[0m\n",
      "\u001b[01;32m161941447180777.maker.gbf\u001b[0m\n",
      "\u001b[01;32m161941447180777.maker.sqn\u001b[0m\n",
      "\u001b[01;32m161941447180777.maker.val\u001b[0m\n",
      "\u001b[01;32m161941447180777.misa.ini\u001b[0m\n",
      "\u001b[01;32m161941447180777.misa.ini.statistics\u001b[0m\n",
      "\u001b[01;32m161941447180777.mRNA.fasta\u001b[0m\n",
      "\u001b[01;32m161941447180777_noseq.gff\u001b[0m\n",
      "\u001b[01;32m161941447180777_prefilter.fas\u001b[0m\n",
      "\u001b[01;32m161941447180777.Protein.fasta\u001b[0m\n",
      "\u001b[01;32m161941447180777_ref.gbf\u001b[0m\n",
      "\u001b[01;32m161941447180777_reportTable.txt\u001b[0m\n",
      "\u001b[01;32m161941447180777.rRNA.fasta\u001b[0m\n",
      "\u001b[01;32m161941447180777.transeq.fasta\u001b[0m\n",
      "\u001b[40;31;01m161941447180777.trf.afterfiltering.txt\u001b[0m\n",
      "\u001b[40;31;01m161941447180777.trf.txt\u001b[0m\n",
      "\u001b[01;32m161941447180777.tRNA.fasta\u001b[0m\n",
      "\u001b[01;32m161941447180777.tRNA.fasta.B.tRNAdb2009.O\u001b[0m\n",
      "\u001b[01;32m161941447180777_trnascan.txt\u001b[0m\n",
      "\u001b[01;32m161941447180777_trnascan.txt_tmp\u001b[0m\n",
      "\u001b[01;32m161941447180777_vmatch.txt\u001b[0m\n"
     ]
    }
   ],
   "source": [
    "ls cpgavas/43pt_db/"
   ]
  },
  {
   "cell_type": "code",
   "execution_count": 1,
   "metadata": {},
   "outputs": [
    {
     "name": "stdout",
     "output_type": "stream",
     "text": [
      "sed: -e expression #1, char 15: unterminated `s' command\n"
     ]
    }
   ],
   "source": [
    "ls cpgavas/43pt_db/ | sed -E 's/^[0-9]*[_.]/' | head"
   ]
  },
  {
   "cell_type": "markdown",
   "metadata": {},
   "source": [
    "## Another way"
   ]
  },
  {
   "cell_type": "code",
   "execution_count": 19,
   "metadata": {},
   "outputs": [
    {
     "name": "stdout",
     "output_type": "stream",
     "text": [
      "++ echo cpgavas/43pt_db_v2/\n",
      "++ sed -E 's/^[0-9]*[_.]//'\n",
      "+ mv cpgavas/43pt_db_v2/ cpgavas/43pt_db_v2/\n",
      "mv: cannot move 'cpgavas/43pt_db_v2/' to a subdirectory of itself, 'cpgavas/43pt_db_v2/43pt_db_v2'\n",
      "+ set +x\n"
     ]
    }
   ],
   "source": [
    "for file in cpgavas/43pt_db_v2/ ; \n",
    "do\n",
    "       set -x\n",
    "       mv \"${file}\" \"$(echo ${file} | sed -E 's/^[0-9]*[_.]//')\"\n",
    "       set +x\n",
    "done"
   ]
  },
  {
   "cell_type": "code",
   "execution_count": 27,
   "metadata": {},
   "outputs": [],
   "source": [
    "file2=\"161941447180777.trf.afterfiltering.txt\""
   ]
  },
  {
   "cell_type": "code",
   "execution_count": null,
   "metadata": {},
   "outputs": [],
   "source": [
    "mv \"${file2}\" \"$(echo ${file2} | sed -E 's/^[0-9]*[_.]//')\""
   ]
  },
  {
   "cell_type": "code",
   "execution_count": 28,
   "metadata": {},
   "outputs": [
    {
     "name": "stdout",
     "output_type": "stream",
     "text": [
      "{file2/^[0-9]*[_.]/}\n"
     ]
    }
   ],
   "source": [
    "echo \"{file2/^[0-9]*[_.]/}\""
   ]
  },
  {
   "cell_type": "markdown",
   "metadata": {},
   "source": [
    "## Links"
   ]
  },
  {
   "cell_type": "markdown",
   "metadata": {},
   "source": [
    "* [Remove pattern from filenames](https://stackoverflow.com/questions/20664242/remove-pattern-from-filenames)"
   ]
  }
 ],
 "metadata": {
  "kernelspec": {
   "display_name": "Bash",
   "language": "bash",
   "name": "bash"
  },
  "language_info": {
   "codemirror_mode": "shell",
   "file_extension": ".sh",
   "mimetype": "text/x-sh",
   "name": "bash"
  },
  "toc": {
   "base_numbering": 1,
   "nav_menu": {},
   "number_sections": true,
   "sideBar": true,
   "skip_h1_title": false,
   "title_cell": "Table of Contents",
   "title_sidebar": "Contents",
   "toc_cell": false,
   "toc_position": {},
   "toc_section_display": true,
   "toc_window_display": false
  },
  "varInspector": {
   "cols": {
    "lenName": 16,
    "lenType": 16,
    "lenVar": 40
   },
   "kernels_config": {
    "python": {
     "delete_cmd_postfix": "",
     "delete_cmd_prefix": "del ",
     "library": "var_list.py",
     "varRefreshCmd": "print(var_dic_list())"
    },
    "r": {
     "delete_cmd_postfix": ") ",
     "delete_cmd_prefix": "rm(",
     "library": "var_list.r",
     "varRefreshCmd": "cat(var_dic_list()) "
    }
   },
   "types_to_exclude": [
    "module",
    "function",
    "builtin_function_or_method",
    "instance",
    "_Feature"
   ],
   "window_display": false
  }
 },
 "nbformat": 4,
 "nbformat_minor": 4
}
